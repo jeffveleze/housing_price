{
  "nbformat": 4,
  "nbformat_minor": 0,
  "metadata": {
    "kernelspec": {
      "display_name": "Python 3",
      "language": "python",
      "name": "python3"
    },
    "language_info": {
      "codemirror_mode": {
        "name": "ipython",
        "version": 3
      },
      "file_extension": ".py",
      "mimetype": "text/x-python",
      "name": "python",
      "nbconvert_exporter": "python",
      "pygments_lexer": "ipython3",
      "version": "3.7.3"
    },
    "nav_menu": {},
    "toc": {
      "navigate_menu": true,
      "number_sections": true,
      "sideBar": true,
      "threshold": 6,
      "toc_cell": false,
      "toc_section_display": "block",
      "toc_window_display": false
    },
    "colab": {
      "name": "housing_price.ipynb",
      "provenance": [],
      "collapsed_sections": [],
      "toc_visible": true,
      "include_colab_link": true
    }
  },
  "cells": [
    {
      "cell_type": "markdown",
      "metadata": {
        "id": "view-in-github",
        "colab_type": "text"
      },
      "source": [
        "<a href=\"https://colab.research.google.com/github/jeffveleze/housing_price/blob/master/housing_price.ipynb\" target=\"_parent\"><img src=\"https://colab.research.google.com/assets/colab-badge.svg\" alt=\"Open In Colab\"/></a>"
      ]
    },
    {
      "cell_type": "code",
      "metadata": {
        "id": "L3W3XT6xkuD3",
        "colab_type": "code",
        "outputId": "0b5ccd87-0e3c-40a2-9df1-31838b068466",
        "colab": {
          "base_uri": "https://localhost:8080/",
          "height": 34
        }
      },
      "source": [
        "# Preparing colab to use drive\n",
        "from google.colab import drive\n",
        "\n",
        "# Mount colab in drive (Requires authorization)\n",
        "drive.mount('/content/drive')"
      ],
      "execution_count": 146,
      "outputs": [
        {
          "output_type": "stream",
          "text": [
            "Drive already mounted at /content/drive; to attempt to forcibly remount, call drive.mount(\"/content/drive\", force_remount=True).\n"
          ],
          "name": "stdout"
        }
      ]
    },
    {
      "cell_type": "markdown",
      "metadata": {
        "id": "127mDgNYE6KX",
        "colab_type": "text"
      },
      "source": [
        "### Importing Libraries"
      ]
    },
    {
      "cell_type": "code",
      "metadata": {
        "id": "yruUFQn01StT",
        "colab_type": "code",
        "colab": {}
      },
      "source": [
        "# Importing libraries\n",
        "import sklearn\n",
        "import numpy as np\n",
        "import pandas as pd\n",
        "\n",
        "# Visualization libraries\n",
        "import matplotlib as mpl\n",
        "import matplotlib.pyplot as plt\n",
        "mpl.rc('axes', labelsize=10)\n",
        "mpl.rc('xtick', labelsize=10)\n",
        "mpl.rc('ytick', labelsize=10)\n",
        "%matplotlib inline\n",
        "\n",
        "# DataFrames visualization\n",
        "pd.set_option('display.max_rows', 500)\n",
        "pd.set_option('display.max_columns', 500)\n",
        "pd.set_option('display.width', 1000)"
      ],
      "execution_count": 0,
      "outputs": []
    },
    {
      "cell_type": "markdown",
      "metadata": {
        "id": "MxzIu3lAL8vz",
        "colab_type": "text"
      },
      "source": [
        "### Downloading \"Housing Price\" dataset "
      ]
    },
    {
      "cell_type": "code",
      "metadata": {
        "id": "acpKzAzbLObJ",
        "colab_type": "code",
        "colab": {}
      },
      "source": [
        "import os\n",
        "import tarfile\n",
        "from six.moves import urllib\n",
        "\n",
        "DOWNLOAD_ROOT = \"https://raw.githubusercontent.com/ageron/handson-ml/master/\"\n",
        "HOUSING_PATH = os.path.join(\"datasets\", \"housing\")\n",
        "HOUSING_URL = DOWNLOAD_ROOT + \"datasets/housing/housing.tgz\"\n",
        "\n",
        "def download_housing_data(housing_url=HOUSING_URL, housing_path=HOUSING_PATH):\n",
        "    os.makedirs(housing_path, exist_ok=True) # Creating directory\n",
        "    tgz_path = os.path.join(housing_path, \"housing.tgz\")\n",
        "    urllib.request.urlretrieve(housing_url, tgz_path) # Downloading data\n",
        "    housing_tgz = tarfile.open(tgz_path)\n",
        "    housing_tgz.extractall(path=housing_path) # Dataset extraction\n",
        "    housing_tgz.close()\n",
        "  \n",
        "def load_housing_data(housing_path=HOUSING_PATH):\n",
        "    csv_path = os.path.join(housing_path, \"housing.csv\")\n",
        "    dataset = pd.read_csv(csv_path) # Loading in memory as pd.DataFrame\n",
        "    return dataset"
      ],
      "execution_count": 0,
      "outputs": []
    },
    {
      "cell_type": "code",
      "metadata": {
        "id": "YVP9uSgBLOj5",
        "colab_type": "code",
        "outputId": "1bedc595-674b-48ed-bfd7-c995e2f38d54",
        "colab": {
          "base_uri": "https://localhost:8080/",
          "height": 34
        }
      },
      "source": [
        "# Download data and make sure it's there\n",
        "download_housing_data()\n",
        "housing_data = load_housing_data(housing_path=HOUSING_PATH)\n",
        "housing_data.head()\n",
        "print(\"Shape: \", housing_data.shape)"
      ],
      "execution_count": 153,
      "outputs": [
        {
          "output_type": "stream",
          "text": [
            "Shape:  (20640, 10)\n"
          ],
          "name": "stdout"
        }
      ]
    },
    {
      "cell_type": "markdown",
      "metadata": {
        "id": "cnxHC9BqWHRQ",
        "colab_type": "text"
      },
      "source": [
        "### Exploring Dataset"
      ]
    },
    {
      "cell_type": "code",
      "metadata": {
        "id": "b0nmRW1lLOml",
        "colab_type": "code",
        "outputId": "5188a817-48e6-45a4-a777-c19fc5d928aa",
        "colab": {
          "base_uri": "https://localhost:8080/",
          "height": 272
        }
      },
      "source": [
        "housing_data.info()"
      ],
      "execution_count": 157,
      "outputs": [
        {
          "output_type": "stream",
          "text": [
            "<class 'pandas.core.frame.DataFrame'>\n",
            "RangeIndex: 20640 entries, 0 to 20639\n",
            "Data columns (total 10 columns):\n",
            "longitude             20640 non-null float64\n",
            "latitude              20640 non-null float64\n",
            "housing_median_age    20640 non-null float64\n",
            "total_rooms           20640 non-null float64\n",
            "total_bedrooms        20433 non-null float64\n",
            "population            20640 non-null float64\n",
            "households            20640 non-null float64\n",
            "median_income         20640 non-null float64\n",
            "median_house_value    20640 non-null float64\n",
            "ocean_proximity       20640 non-null object\n",
            "dtypes: float64(9), object(1)\n",
            "memory usage: 1.6+ MB\n"
          ],
          "name": "stdout"
        }
      ]
    },
    {
      "cell_type": "code",
      "metadata": {
        "id": "ButDMlL4WCfZ",
        "colab_type": "code",
        "colab": {
          "base_uri": "https://localhost:8080/",
          "height": 410
        },
        "outputId": "569bc458-a224-44dd-b8b4-64f52cc80dff"
      },
      "source": [
        "housing_data.describe(include='all')"
      ],
      "execution_count": 158,
      "outputs": [
        {
          "output_type": "execute_result",
          "data": {
            "text/html": [
              "<div>\n",
              "<style scoped>\n",
              "    .dataframe tbody tr th:only-of-type {\n",
              "        vertical-align: middle;\n",
              "    }\n",
              "\n",
              "    .dataframe tbody tr th {\n",
              "        vertical-align: top;\n",
              "    }\n",
              "\n",
              "    .dataframe thead th {\n",
              "        text-align: right;\n",
              "    }\n",
              "</style>\n",
              "<table border=\"1\" class=\"dataframe\">\n",
              "  <thead>\n",
              "    <tr style=\"text-align: right;\">\n",
              "      <th></th>\n",
              "      <th>longitude</th>\n",
              "      <th>latitude</th>\n",
              "      <th>housing_median_age</th>\n",
              "      <th>total_rooms</th>\n",
              "      <th>total_bedrooms</th>\n",
              "      <th>population</th>\n",
              "      <th>households</th>\n",
              "      <th>median_income</th>\n",
              "      <th>median_house_value</th>\n",
              "      <th>ocean_proximity</th>\n",
              "    </tr>\n",
              "  </thead>\n",
              "  <tbody>\n",
              "    <tr>\n",
              "      <th>count</th>\n",
              "      <td>20640.000000</td>\n",
              "      <td>20640.000000</td>\n",
              "      <td>20640.000000</td>\n",
              "      <td>20640.000000</td>\n",
              "      <td>20433.000000</td>\n",
              "      <td>20640.000000</td>\n",
              "      <td>20640.000000</td>\n",
              "      <td>20640.000000</td>\n",
              "      <td>20640.000000</td>\n",
              "      <td>20640</td>\n",
              "    </tr>\n",
              "    <tr>\n",
              "      <th>unique</th>\n",
              "      <td>NaN</td>\n",
              "      <td>NaN</td>\n",
              "      <td>NaN</td>\n",
              "      <td>NaN</td>\n",
              "      <td>NaN</td>\n",
              "      <td>NaN</td>\n",
              "      <td>NaN</td>\n",
              "      <td>NaN</td>\n",
              "      <td>NaN</td>\n",
              "      <td>5</td>\n",
              "    </tr>\n",
              "    <tr>\n",
              "      <th>top</th>\n",
              "      <td>NaN</td>\n",
              "      <td>NaN</td>\n",
              "      <td>NaN</td>\n",
              "      <td>NaN</td>\n",
              "      <td>NaN</td>\n",
              "      <td>NaN</td>\n",
              "      <td>NaN</td>\n",
              "      <td>NaN</td>\n",
              "      <td>NaN</td>\n",
              "      <td>&lt;1H OCEAN</td>\n",
              "    </tr>\n",
              "    <tr>\n",
              "      <th>freq</th>\n",
              "      <td>NaN</td>\n",
              "      <td>NaN</td>\n",
              "      <td>NaN</td>\n",
              "      <td>NaN</td>\n",
              "      <td>NaN</td>\n",
              "      <td>NaN</td>\n",
              "      <td>NaN</td>\n",
              "      <td>NaN</td>\n",
              "      <td>NaN</td>\n",
              "      <td>9136</td>\n",
              "    </tr>\n",
              "    <tr>\n",
              "      <th>mean</th>\n",
              "      <td>-119.569704</td>\n",
              "      <td>35.631861</td>\n",
              "      <td>28.639486</td>\n",
              "      <td>2635.763081</td>\n",
              "      <td>537.870553</td>\n",
              "      <td>1425.476744</td>\n",
              "      <td>499.539680</td>\n",
              "      <td>3.870671</td>\n",
              "      <td>206855.816909</td>\n",
              "      <td>NaN</td>\n",
              "    </tr>\n",
              "    <tr>\n",
              "      <th>std</th>\n",
              "      <td>2.003532</td>\n",
              "      <td>2.135952</td>\n",
              "      <td>12.585558</td>\n",
              "      <td>2181.615252</td>\n",
              "      <td>421.385070</td>\n",
              "      <td>1132.462122</td>\n",
              "      <td>382.329753</td>\n",
              "      <td>1.899822</td>\n",
              "      <td>115395.615874</td>\n",
              "      <td>NaN</td>\n",
              "    </tr>\n",
              "    <tr>\n",
              "      <th>min</th>\n",
              "      <td>-124.350000</td>\n",
              "      <td>32.540000</td>\n",
              "      <td>1.000000</td>\n",
              "      <td>2.000000</td>\n",
              "      <td>1.000000</td>\n",
              "      <td>3.000000</td>\n",
              "      <td>1.000000</td>\n",
              "      <td>0.499900</td>\n",
              "      <td>14999.000000</td>\n",
              "      <td>NaN</td>\n",
              "    </tr>\n",
              "    <tr>\n",
              "      <th>25%</th>\n",
              "      <td>-121.800000</td>\n",
              "      <td>33.930000</td>\n",
              "      <td>18.000000</td>\n",
              "      <td>1447.750000</td>\n",
              "      <td>296.000000</td>\n",
              "      <td>787.000000</td>\n",
              "      <td>280.000000</td>\n",
              "      <td>2.563400</td>\n",
              "      <td>119600.000000</td>\n",
              "      <td>NaN</td>\n",
              "    </tr>\n",
              "    <tr>\n",
              "      <th>50%</th>\n",
              "      <td>-118.490000</td>\n",
              "      <td>34.260000</td>\n",
              "      <td>29.000000</td>\n",
              "      <td>2127.000000</td>\n",
              "      <td>435.000000</td>\n",
              "      <td>1166.000000</td>\n",
              "      <td>409.000000</td>\n",
              "      <td>3.534800</td>\n",
              "      <td>179700.000000</td>\n",
              "      <td>NaN</td>\n",
              "    </tr>\n",
              "    <tr>\n",
              "      <th>75%</th>\n",
              "      <td>-118.010000</td>\n",
              "      <td>37.710000</td>\n",
              "      <td>37.000000</td>\n",
              "      <td>3148.000000</td>\n",
              "      <td>647.000000</td>\n",
              "      <td>1725.000000</td>\n",
              "      <td>605.000000</td>\n",
              "      <td>4.743250</td>\n",
              "      <td>264725.000000</td>\n",
              "      <td>NaN</td>\n",
              "    </tr>\n",
              "    <tr>\n",
              "      <th>max</th>\n",
              "      <td>-114.310000</td>\n",
              "      <td>41.950000</td>\n",
              "      <td>52.000000</td>\n",
              "      <td>39320.000000</td>\n",
              "      <td>6445.000000</td>\n",
              "      <td>35682.000000</td>\n",
              "      <td>6082.000000</td>\n",
              "      <td>15.000100</td>\n",
              "      <td>500001.000000</td>\n",
              "      <td>NaN</td>\n",
              "    </tr>\n",
              "  </tbody>\n",
              "</table>\n",
              "</div>"
            ],
            "text/plain": [
              "           longitude      latitude  housing_median_age   total_rooms  total_bedrooms    population    households  median_income  median_house_value ocean_proximity\n",
              "count   20640.000000  20640.000000        20640.000000  20640.000000    20433.000000  20640.000000  20640.000000   20640.000000        20640.000000           20640\n",
              "unique           NaN           NaN                 NaN           NaN             NaN           NaN           NaN            NaN                 NaN               5\n",
              "top              NaN           NaN                 NaN           NaN             NaN           NaN           NaN            NaN                 NaN       <1H OCEAN\n",
              "freq             NaN           NaN                 NaN           NaN             NaN           NaN           NaN            NaN                 NaN            9136\n",
              "mean     -119.569704     35.631861           28.639486   2635.763081      537.870553   1425.476744    499.539680       3.870671       206855.816909             NaN\n",
              "std         2.003532      2.135952           12.585558   2181.615252      421.385070   1132.462122    382.329753       1.899822       115395.615874             NaN\n",
              "min      -124.350000     32.540000            1.000000      2.000000        1.000000      3.000000      1.000000       0.499900        14999.000000             NaN\n",
              "25%      -121.800000     33.930000           18.000000   1447.750000      296.000000    787.000000    280.000000       2.563400       119600.000000             NaN\n",
              "50%      -118.490000     34.260000           29.000000   2127.000000      435.000000   1166.000000    409.000000       3.534800       179700.000000             NaN\n",
              "75%      -118.010000     37.710000           37.000000   3148.000000      647.000000   1725.000000    605.000000       4.743250       264725.000000             NaN\n",
              "max      -114.310000     41.950000           52.000000  39320.000000     6445.000000  35682.000000   6082.000000      15.000100       500001.000000             NaN"
            ]
          },
          "metadata": {
            "tags": []
          },
          "execution_count": 158
        }
      ]
    },
    {
      "cell_type": "code",
      "metadata": {
        "id": "gpPtmJtqWvS3",
        "colab_type": "code",
        "outputId": "1a3f7d81-aa2d-44e4-f120-698fd0680d35",
        "colab": {
          "base_uri": "https://localhost:8080/",
          "height": 119
        }
      },
      "source": [
        "housing_data.ocean_proximity.value_counts() # Count elements in categorical variable"
      ],
      "execution_count": 161,
      "outputs": [
        {
          "output_type": "execute_result",
          "data": {
            "text/plain": [
              "<1H OCEAN     9136\n",
              "INLAND        6551\n",
              "NEAR OCEAN    2658\n",
              "NEAR BAY      2290\n",
              "ISLAND           5\n",
              "Name: ocean_proximity, dtype: int64"
            ]
          },
          "metadata": {
            "tags": []
          },
          "execution_count": 161
        }
      ]
    },
    {
      "cell_type": "markdown",
      "metadata": {
        "id": "hn5gFZ0ZxGQ7",
        "colab_type": "text"
      },
      "source": [
        "## Preprocessing Train Data"
      ]
    },
    {
      "cell_type": "markdown",
      "metadata": {
        "id": "DvyiFSTXU2F0",
        "colab_type": "text"
      },
      "source": [
        "### Scaling\n",
        "\n"
      ]
    },
    {
      "cell_type": "code",
      "metadata": {
        "id": "-9SGzrYQLOvN",
        "colab_type": "code",
        "colab": {}
      },
      "source": [
        "# Separating depending variable (Y) from independent variables (X)\n",
        "X_df = housing_data.drop('median_house_value', axis=1).copy()\n",
        "Y_df = housing_data['median_house_value'].copy()"
      ],
      "execution_count": 0,
      "outputs": []
    },
    {
      "cell_type": "code",
      "metadata": {
        "id": "bFUr3NQYXwjE",
        "colab_type": "code",
        "colab": {}
      },
      "source": [
        "from sklearn.model_selection import train_test_split\n",
        "\n",
        "# Split dataset by train and test in a random way\n",
        "X_train_original, X_test_original, Y_train_original, Y_test_original = train_test_split(X_df, Y_df, test_size=0.2, random_state=2)"
      ],
      "execution_count": 0,
      "outputs": []
    },
    {
      "cell_type": "code",
      "metadata": {
        "id": "ptpQF78-5i4z",
        "colab_type": "code",
        "colab": {}
      },
      "source": [
        "# Avoiding SettingWithCopyWarning\n",
        "X_train = X_train_original.copy()\n",
        "X_test = X_test_original.copy()\n",
        "Y_train = Y_train_original.copy()\n",
        "Y_test = Y_test_original.copy()"
      ],
      "execution_count": 0,
      "outputs": []
    },
    {
      "cell_type": "code",
      "metadata": {
        "id": "4KJu4Ab61mKs",
        "colab_type": "code",
        "outputId": "26c7920a-e062-4da1-9d0c-f0e53417eac2",
        "colab": {
          "base_uri": "https://localhost:8080/",
          "height": 221
        }
      },
      "source": [
        "print(X_train.shape)\n",
        "X_train.head()"
      ],
      "execution_count": 169,
      "outputs": [
        {
          "output_type": "stream",
          "text": [
            "(16512, 9)\n"
          ],
          "name": "stdout"
        },
        {
          "output_type": "execute_result",
          "data": {
            "text/html": [
              "<div>\n",
              "<style scoped>\n",
              "    .dataframe tbody tr th:only-of-type {\n",
              "        vertical-align: middle;\n",
              "    }\n",
              "\n",
              "    .dataframe tbody tr th {\n",
              "        vertical-align: top;\n",
              "    }\n",
              "\n",
              "    .dataframe thead th {\n",
              "        text-align: right;\n",
              "    }\n",
              "</style>\n",
              "<table border=\"1\" class=\"dataframe\">\n",
              "  <thead>\n",
              "    <tr style=\"text-align: right;\">\n",
              "      <th></th>\n",
              "      <th>longitude</th>\n",
              "      <th>latitude</th>\n",
              "      <th>housing_median_age</th>\n",
              "      <th>total_rooms</th>\n",
              "      <th>total_bedrooms</th>\n",
              "      <th>population</th>\n",
              "      <th>households</th>\n",
              "      <th>median_income</th>\n",
              "      <th>ocean_proximity</th>\n",
              "    </tr>\n",
              "  </thead>\n",
              "  <tbody>\n",
              "    <tr>\n",
              "      <th>2072</th>\n",
              "      <td>-119.84</td>\n",
              "      <td>36.77</td>\n",
              "      <td>6.0</td>\n",
              "      <td>1853.0</td>\n",
              "      <td>473.0</td>\n",
              "      <td>1397.0</td>\n",
              "      <td>417.0</td>\n",
              "      <td>1.4817</td>\n",
              "      <td>INLAND</td>\n",
              "    </tr>\n",
              "    <tr>\n",
              "      <th>10600</th>\n",
              "      <td>-117.80</td>\n",
              "      <td>33.68</td>\n",
              "      <td>8.0</td>\n",
              "      <td>2032.0</td>\n",
              "      <td>349.0</td>\n",
              "      <td>862.0</td>\n",
              "      <td>340.0</td>\n",
              "      <td>6.9133</td>\n",
              "      <td>&lt;1H OCEAN</td>\n",
              "    </tr>\n",
              "    <tr>\n",
              "      <th>2494</th>\n",
              "      <td>-120.19</td>\n",
              "      <td>36.60</td>\n",
              "      <td>25.0</td>\n",
              "      <td>875.0</td>\n",
              "      <td>214.0</td>\n",
              "      <td>931.0</td>\n",
              "      <td>214.0</td>\n",
              "      <td>1.5536</td>\n",
              "      <td>INLAND</td>\n",
              "    </tr>\n",
              "    <tr>\n",
              "      <th>4284</th>\n",
              "      <td>-118.32</td>\n",
              "      <td>34.10</td>\n",
              "      <td>31.0</td>\n",
              "      <td>622.0</td>\n",
              "      <td>229.0</td>\n",
              "      <td>597.0</td>\n",
              "      <td>227.0</td>\n",
              "      <td>1.5284</td>\n",
              "      <td>&lt;1H OCEAN</td>\n",
              "    </tr>\n",
              "    <tr>\n",
              "      <th>16541</th>\n",
              "      <td>-121.23</td>\n",
              "      <td>37.79</td>\n",
              "      <td>21.0</td>\n",
              "      <td>1922.0</td>\n",
              "      <td>373.0</td>\n",
              "      <td>1130.0</td>\n",
              "      <td>372.0</td>\n",
              "      <td>4.0815</td>\n",
              "      <td>INLAND</td>\n",
              "    </tr>\n",
              "  </tbody>\n",
              "</table>\n",
              "</div>"
            ],
            "text/plain": [
              "       longitude  latitude  housing_median_age  total_rooms  total_bedrooms  population  households  median_income ocean_proximity\n",
              "2072     -119.84     36.77                 6.0       1853.0           473.0      1397.0       417.0         1.4817          INLAND\n",
              "10600    -117.80     33.68                 8.0       2032.0           349.0       862.0       340.0         6.9133       <1H OCEAN\n",
              "2494     -120.19     36.60                25.0        875.0           214.0       931.0       214.0         1.5536          INLAND\n",
              "4284     -118.32     34.10                31.0        622.0           229.0       597.0       227.0         1.5284       <1H OCEAN\n",
              "16541    -121.23     37.79                21.0       1922.0           373.0      1130.0       372.0         4.0815          INLAND"
            ]
          },
          "metadata": {
            "tags": []
          },
          "execution_count": 169
        }
      ]
    },
    {
      "cell_type": "code",
      "metadata": {
        "id": "XXC0VN611sBp",
        "colab_type": "code",
        "outputId": "54ca3951-8fbc-4550-eb04-87234e1608e7",
        "colab": {
          "base_uri": "https://localhost:8080/",
          "height": 221
        }
      },
      "source": [
        "print(X_test.shape)\n",
        "X_test.head()"
      ],
      "execution_count": 170,
      "outputs": [
        {
          "output_type": "stream",
          "text": [
            "(4128, 9)\n"
          ],
          "name": "stdout"
        },
        {
          "output_type": "execute_result",
          "data": {
            "text/html": [
              "<div>\n",
              "<style scoped>\n",
              "    .dataframe tbody tr th:only-of-type {\n",
              "        vertical-align: middle;\n",
              "    }\n",
              "\n",
              "    .dataframe tbody tr th {\n",
              "        vertical-align: top;\n",
              "    }\n",
              "\n",
              "    .dataframe thead th {\n",
              "        text-align: right;\n",
              "    }\n",
              "</style>\n",
              "<table border=\"1\" class=\"dataframe\">\n",
              "  <thead>\n",
              "    <tr style=\"text-align: right;\">\n",
              "      <th></th>\n",
              "      <th>longitude</th>\n",
              "      <th>latitude</th>\n",
              "      <th>housing_median_age</th>\n",
              "      <th>total_rooms</th>\n",
              "      <th>total_bedrooms</th>\n",
              "      <th>population</th>\n",
              "      <th>households</th>\n",
              "      <th>median_income</th>\n",
              "      <th>ocean_proximity</th>\n",
              "    </tr>\n",
              "  </thead>\n",
              "  <tbody>\n",
              "    <tr>\n",
              "      <th>10385</th>\n",
              "      <td>-117.65</td>\n",
              "      <td>33.60</td>\n",
              "      <td>15.0</td>\n",
              "      <td>5736.0</td>\n",
              "      <td>NaN</td>\n",
              "      <td>2529.0</td>\n",
              "      <td>762.0</td>\n",
              "      <td>6.4114</td>\n",
              "      <td>&lt;1H OCEAN</td>\n",
              "    </tr>\n",
              "    <tr>\n",
              "      <th>1943</th>\n",
              "      <td>-120.91</td>\n",
              "      <td>38.62</td>\n",
              "      <td>12.0</td>\n",
              "      <td>4545.0</td>\n",
              "      <td>748.0</td>\n",
              "      <td>2033.0</td>\n",
              "      <td>718.0</td>\n",
              "      <td>4.1843</td>\n",
              "      <td>INLAND</td>\n",
              "    </tr>\n",
              "    <tr>\n",
              "      <th>7490</th>\n",
              "      <td>-118.23</td>\n",
              "      <td>33.93</td>\n",
              "      <td>35.0</td>\n",
              "      <td>1149.0</td>\n",
              "      <td>277.0</td>\n",
              "      <td>909.0</td>\n",
              "      <td>214.0</td>\n",
              "      <td>1.7411</td>\n",
              "      <td>&lt;1H OCEAN</td>\n",
              "    </tr>\n",
              "    <tr>\n",
              "      <th>16889</th>\n",
              "      <td>-122.37</td>\n",
              "      <td>37.59</td>\n",
              "      <td>39.0</td>\n",
              "      <td>4645.0</td>\n",
              "      <td>1196.0</td>\n",
              "      <td>2156.0</td>\n",
              "      <td>1113.0</td>\n",
              "      <td>3.4412</td>\n",
              "      <td>NEAR OCEAN</td>\n",
              "    </tr>\n",
              "    <tr>\n",
              "      <th>11416</th>\n",
              "      <td>-117.98</td>\n",
              "      <td>33.70</td>\n",
              "      <td>16.0</td>\n",
              "      <td>5127.0</td>\n",
              "      <td>631.0</td>\n",
              "      <td>2142.0</td>\n",
              "      <td>596.0</td>\n",
              "      <td>7.8195</td>\n",
              "      <td>&lt;1H OCEAN</td>\n",
              "    </tr>\n",
              "  </tbody>\n",
              "</table>\n",
              "</div>"
            ],
            "text/plain": [
              "       longitude  latitude  housing_median_age  total_rooms  total_bedrooms  population  households  median_income ocean_proximity\n",
              "10385    -117.65     33.60                15.0       5736.0             NaN      2529.0       762.0         6.4114       <1H OCEAN\n",
              "1943     -120.91     38.62                12.0       4545.0           748.0      2033.0       718.0         4.1843          INLAND\n",
              "7490     -118.23     33.93                35.0       1149.0           277.0       909.0       214.0         1.7411       <1H OCEAN\n",
              "16889    -122.37     37.59                39.0       4645.0          1196.0      2156.0      1113.0         3.4412      NEAR OCEAN\n",
              "11416    -117.98     33.70                16.0       5127.0           631.0      2142.0       596.0         7.8195       <1H OCEAN"
            ]
          },
          "metadata": {
            "tags": []
          },
          "execution_count": 170
        }
      ]
    },
    {
      "cell_type": "code",
      "metadata": {
        "id": "aj5cvYHzLOsC",
        "colab_type": "code",
        "colab": {}
      },
      "source": [
        "from sklearn.preprocessing import (PowerTransformer, StandardScaler, \n",
        "                                   MinMaxScaler, LabelEncoder, OneHotEncoder)"
      ],
      "execution_count": 0,
      "outputs": []
    },
    {
      "cell_type": "code",
      "metadata": {
        "id": "ogd9bXCxvpvJ",
        "colab_type": "code",
        "outputId": "c2f87a3a-f522-4b40-f66a-3d7517fe828f",
        "colab": {
          "base_uri": "https://localhost:8080/",
          "height": 34
        }
      },
      "source": [
        "# Make sure all values are bigger than 0 to be able to make \"box cox\" transformation to \"population\" column\n",
        "(X_train[\"population\"]>0).sum() == len(X_train)"
      ],
      "execution_count": 176,
      "outputs": [
        {
          "output_type": "execute_result",
          "data": {
            "text/plain": [
              "True"
            ]
          },
          "metadata": {
            "tags": []
          },
          "execution_count": 176
        }
      ]
    },
    {
      "cell_type": "code",
      "metadata": {
        "id": "J1HJy5kIxK2I",
        "colab_type": "code",
        "outputId": "878b98cc-3070-4f7c-b5a3-876f42c9b7a8",
        "colab": {
          "base_uri": "https://localhost:8080/",
          "height": 281
        }
      },
      "source": [
        "X_train[\"population\"].hist(bins=100)\n",
        "plt.title(\"Population Initial Distribution\")\n",
        "plt.show()"
      ],
      "execution_count": 173,
      "outputs": [
        {
          "output_type": "display_data",
          "data": {
            "image/png": "[encoded data removed]",
            "text/plain": [
              "<Figure size 432x288 with 1 Axes>"
            ]
          },
          "metadata": {
            "tags": []
          }
        }
      ]
    },
    {
      "cell_type": "code",
      "metadata": {
        "id": "etNFYJtzLOZo",
        "colab_type": "code",
        "outputId": "ff347dde-d78e-4542-8094-88c9dd102796",
        "colab": {
          "base_uri": "https://localhost:8080/",
          "height": 204
        }
      },
      "source": [
        "# Running box-cox transformation\n",
        "box_cox = PowerTransformer(method='box-cox') # Create box-cox object\n",
        "box_cox.fit(X_train[\"population\"].values.reshape(-1,1)) # We reshape(-1,1) because the array needs to have at least 2 dimensions\n",
        "X_train.loc[:,\"population\"] = box_cox.transform(X_train[\"population\"].values.reshape(-1,1)) # Updating the array with transformed data\n",
        "X_train.head()"
      ],
      "execution_count": 177,
      "outputs": [
        {
          "output_type": "execute_result",
          "data": {
            "text/html": [
              "<div>\n",
              "<style scoped>\n",
              "    .dataframe tbody tr th:only-of-type {\n",
              "        vertical-align: middle;\n",
              "    }\n",
              "\n",
              "    .dataframe tbody tr th {\n",
              "        vertical-align: top;\n",
              "    }\n",
              "\n",
              "    .dataframe thead th {\n",
              "        text-align: right;\n",
              "    }\n",
              "</style>\n",
              "<table border=\"1\" class=\"dataframe\">\n",
              "  <thead>\n",
              "    <tr style=\"text-align: right;\">\n",
              "      <th></th>\n",
              "      <th>longitude</th>\n",
              "      <th>latitude</th>\n",
              "      <th>housing_median_age</th>\n",
              "      <th>total_rooms</th>\n",
              "      <th>total_bedrooms</th>\n",
              "      <th>population</th>\n",
              "      <th>households</th>\n",
              "      <th>median_income</th>\n",
              "      <th>ocean_proximity</th>\n",
              "    </tr>\n",
              "  </thead>\n",
              "  <tbody>\n",
              "    <tr>\n",
              "      <th>2072</th>\n",
              "      <td>-119.84</td>\n",
              "      <td>36.77</td>\n",
              "      <td>6.0</td>\n",
              "      <td>1853.0</td>\n",
              "      <td>473.0</td>\n",
              "      <td>0.223324</td>\n",
              "      <td>417.0</td>\n",
              "      <td>1.4817</td>\n",
              "      <td>INLAND</td>\n",
              "    </tr>\n",
              "    <tr>\n",
              "      <th>10600</th>\n",
              "      <td>-117.80</td>\n",
              "      <td>33.68</td>\n",
              "      <td>8.0</td>\n",
              "      <td>2032.0</td>\n",
              "      <td>349.0</td>\n",
              "      <td>-0.452278</td>\n",
              "      <td>340.0</td>\n",
              "      <td>6.9133</td>\n",
              "      <td>&lt;1H OCEAN</td>\n",
              "    </tr>\n",
              "    <tr>\n",
              "      <th>2494</th>\n",
              "      <td>-120.19</td>\n",
              "      <td>36.60</td>\n",
              "      <td>25.0</td>\n",
              "      <td>875.0</td>\n",
              "      <td>214.0</td>\n",
              "      <td>-0.349517</td>\n",
              "      <td>214.0</td>\n",
              "      <td>1.5536</td>\n",
              "      <td>INLAND</td>\n",
              "    </tr>\n",
              "    <tr>\n",
              "      <th>4284</th>\n",
              "      <td>-118.32</td>\n",
              "      <td>34.10</td>\n",
              "      <td>31.0</td>\n",
              "      <td>622.0</td>\n",
              "      <td>229.0</td>\n",
              "      <td>-0.918091</td>\n",
              "      <td>227.0</td>\n",
              "      <td>1.5284</td>\n",
              "      <td>&lt;1H OCEAN</td>\n",
              "    </tr>\n",
              "    <tr>\n",
              "      <th>16541</th>\n",
              "      <td>-121.23</td>\n",
              "      <td>37.79</td>\n",
              "      <td>21.0</td>\n",
              "      <td>1922.0</td>\n",
              "      <td>373.0</td>\n",
              "      <td>-0.082775</td>\n",
              "      <td>372.0</td>\n",
              "      <td>4.0815</td>\n",
              "      <td>INLAND</td>\n",
              "    </tr>\n",
              "  </tbody>\n",
              "</table>\n",
              "</div>"
            ],
            "text/plain": [
              "       longitude  latitude  housing_median_age  total_rooms  total_bedrooms  population  households  median_income ocean_proximity\n",
              "2072     -119.84     36.77                 6.0       1853.0           473.0    0.223324       417.0         1.4817          INLAND\n",
              "10600    -117.80     33.68                 8.0       2032.0           349.0   -0.452278       340.0         6.9133       <1H OCEAN\n",
              "2494     -120.19     36.60                25.0        875.0           214.0   -0.349517       214.0         1.5536          INLAND\n",
              "4284     -118.32     34.10                31.0        622.0           229.0   -0.918091       227.0         1.5284       <1H OCEAN\n",
              "16541    -121.23     37.79                21.0       1922.0           373.0   -0.082775       372.0         4.0815          INLAND"
            ]
          },
          "metadata": {
            "tags": []
          },
          "execution_count": 177
        }
      ]
    },
    {
      "cell_type": "code",
      "metadata": {
        "id": "oOarM1u9yrah",
        "colab_type": "code",
        "outputId": "4cf5e3cb-afa3-4848-ae02-4c8949edc20d",
        "colab": {
          "base_uri": "https://localhost:8080/",
          "height": 34
        }
      },
      "source": [
        "box_cox.lambdas_ # Learned Lambdas"
      ],
      "execution_count": 178,
      "outputs": [
        {
          "output_type": "execute_result",
          "data": {
            "text/plain": [
              "array([0.23107515])"
            ]
          },
          "metadata": {
            "tags": []
          },
          "execution_count": 178
        }
      ]
    },
    {
      "cell_type": "code",
      "metadata": {
        "id": "AY7NHtKjLOUC",
        "colab_type": "code",
        "outputId": "43c879ed-8dd2-4198-fcc5-5ede1e92b928",
        "colab": {
          "base_uri": "https://localhost:8080/",
          "height": 281
        }
      },
      "source": [
        "X_train[\"population\"].hist(bins=100)\n",
        "plt.title(\"Population Distribution After Transformation\")\n",
        "plt.show()"
      ],
      "execution_count": 179,
      "outputs": [
        {
          "output_type": "display_data",
          "data": {
            "image/png": "[encoded data removed]",
            "text/plain": [
              "<Figure size 432x288 with 1 Axes>"
            ]
          },
          "metadata": {
            "tags": []
          }
        }
      ]
    },
    {
      "cell_type": "code",
      "metadata": {
        "id": "EGvU2COYz1G6",
        "colab_type": "code",
        "outputId": "320299d4-b1a3-4448-df22-e1133c438097",
        "colab": {
          "base_uri": "https://localhost:8080/",
          "height": 281
        }
      },
      "source": [
        "X_train['median_income'].hist(bins=100)\n",
        "plt.title(\"Median Income Initial distribution\")\n",
        "plt.show()"
      ],
      "execution_count": 183,
      "outputs": [
        {
          "output_type": "display_data",
          "data": {
            "image/png": "[encoded data removed]",
            "text/plain": [
              "<Figure size 432x288 with 1 Axes>"
            ]
          },
          "metadata": {
            "tags": []
          }
        }
      ]
    },
    {
      "cell_type": "code",
      "metadata": {
        "id": "1KPm0u3PT4KG",
        "colab_type": "code",
        "colab": {}
      },
      "source": [
        "sc_median_income = StandardScaler()\n",
        "sc_median_income.fit(X_train.loc[:,'median_income'].values.reshape(-1,1))\n",
        "X_train.loc[:,'median_income'] = sc_median_income.transform(X_train['median_income'].values.reshape(-1,1))"
      ],
      "execution_count": 0,
      "outputs": []
    },
    {
      "cell_type": "code",
      "metadata": {
        "id": "1sQmC6NsT5Vt",
        "colab_type": "code",
        "outputId": "e85aeb0e-f94a-4207-98a9-d2dc9e7547dc",
        "colab": {
          "base_uri": "https://localhost:8080/",
          "height": 281
        }
      },
      "source": [
        "X_train['median_income'].hist(bins=100)\n",
        "plt.title(\"Median Income Distribution After Transformation\")\n",
        "plt.show()"
      ],
      "execution_count": 189,
      "outputs": [
        {
          "output_type": "display_data",
          "data": {
            "image/png": "[encoded data removed]",
            "text/plain": [
              "<Figure size 432x288 with 1 Axes>"
            ]
          },
          "metadata": {
            "tags": []
          }
        }
      ]
    },
    {
      "cell_type": "code",
      "metadata": {
        "id": "qUlfhxxaVV_6",
        "colab_type": "code",
        "outputId": "52ec251f-bdfd-4c11-d080-ba8d42695ae2",
        "colab": {
          "base_uri": "https://localhost:8080/",
          "height": 281
        }
      },
      "source": [
        "X_train['housing_median_age'].hist(bins=50)\n",
        "plt.title(\"Housing Median Age Initial distribution\")\n",
        "plt.show()"
      ],
      "execution_count": 190,
      "outputs": [
        {
          "output_type": "display_data",
          "data": {
            "image/png": "[encoded data removed]",
            "text/plain": [
              "<Figure size 432x288 with 1 Axes>"
            ]
          },
          "metadata": {
            "tags": []
          }
        }
      ]
    },
    {
      "cell_type": "code",
      "metadata": {
        "id": "BxOl03E4XALA",
        "colab_type": "code",
        "colab": {}
      },
      "source": [
        "min_max_housing_median = MinMaxScaler()\n",
        "min_max_housing_median.fit(X_train['housing_median_age'].values[:,None])\n",
        "X_train['housing_median_age'] = min_max_housing_median.transform(X_train['housing_median_age'].values[:,None])"
      ],
      "execution_count": 0,
      "outputs": []
    },
    {
      "cell_type": "code",
      "metadata": {
        "id": "UogI9Qq8XAQA",
        "colab_type": "code",
        "outputId": "5a42c716-1df7-4e15-f364-9830c8fca16d",
        "colab": {
          "base_uri": "https://localhost:8080/",
          "height": 281
        }
      },
      "source": [
        "X_train['housing_median_age'].hist(bins=50)\n",
        "plt.title(\"Housing Median Age Distribution After Transformation\")\n",
        "plt.show()"
      ],
      "execution_count": 193,
      "outputs": [
        {
          "output_type": "display_data",
          "data": {
            "image/png": "[encoded data removed]",
            "text/plain": [
              "<Figure size 432x288 with 1 Axes>"
            ]
          },
          "metadata": {
            "tags": []
          }
        }
      ]
    },
    {
      "cell_type": "code",
      "metadata": {
        "id": "Q99sgpN4fQf9",
        "colab_type": "code",
        "colab": {
          "base_uri": "https://localhost:8080/",
          "height": 204
        },
        "outputId": "be1cb4fd-56b1-4652-ac83-423b053dc8e4"
      },
      "source": [
        "# Additional transformations to remaining columns\n",
        "cols2scale = ['longitude', 'latitude', 'total_rooms', 'total_bedrooms', 'households']\n",
        "se_cols2scale = StandardScaler()\n",
        "se_cols2scale.fit(X_train[cols2scale])\n",
        "X_train[cols2scale] = se_cols2scale.transform(X_train[cols2scale])\n",
        "X_train.head()"
      ],
      "execution_count": 195,
      "outputs": [
        {
          "output_type": "execute_result",
          "data": {
            "text/html": [
              "<div>\n",
              "<style scoped>\n",
              "    .dataframe tbody tr th:only-of-type {\n",
              "        vertical-align: middle;\n",
              "    }\n",
              "\n",
              "    .dataframe tbody tr th {\n",
              "        vertical-align: top;\n",
              "    }\n",
              "\n",
              "    .dataframe thead th {\n",
              "        text-align: right;\n",
              "    }\n",
              "</style>\n",
              "<table border=\"1\" class=\"dataframe\">\n",
              "  <thead>\n",
              "    <tr style=\"text-align: right;\">\n",
              "      <th></th>\n",
              "      <th>longitude</th>\n",
              "      <th>latitude</th>\n",
              "      <th>housing_median_age</th>\n",
              "      <th>total_rooms</th>\n",
              "      <th>total_bedrooms</th>\n",
              "      <th>population</th>\n",
              "      <th>households</th>\n",
              "      <th>median_income</th>\n",
              "      <th>ocean_proximity</th>\n",
              "    </tr>\n",
              "  </thead>\n",
              "  <tbody>\n",
              "    <tr>\n",
              "      <th>2072</th>\n",
              "      <td>-0.137635</td>\n",
              "      <td>0.534564</td>\n",
              "      <td>0.098039</td>\n",
              "      <td>-0.357368</td>\n",
              "      <td>-0.155975</td>\n",
              "      <td>0.223324</td>\n",
              "      <td>-0.218173</td>\n",
              "      <td>-1.258403</td>\n",
              "      <td>INLAND</td>\n",
              "    </tr>\n",
              "    <tr>\n",
              "      <th>10600</th>\n",
              "      <td>0.879836</td>\n",
              "      <td>-0.909979</td>\n",
              "      <td>0.137255</td>\n",
              "      <td>-0.276515</td>\n",
              "      <td>-0.447606</td>\n",
              "      <td>-0.452278</td>\n",
              "      <td>-0.417841</td>\n",
              "      <td>1.610623</td>\n",
              "      <td>&lt;1H OCEAN</td>\n",
              "    </tr>\n",
              "    <tr>\n",
              "      <th>2494</th>\n",
              "      <td>-0.312201</td>\n",
              "      <td>0.455091</td>\n",
              "      <td>0.470588</td>\n",
              "      <td>-0.799127</td>\n",
              "      <td>-0.765107</td>\n",
              "      <td>-0.349517</td>\n",
              "      <td>-0.744572</td>\n",
              "      <td>-1.220425</td>\n",
              "      <td>INLAND</td>\n",
              "    </tr>\n",
              "    <tr>\n",
              "      <th>4284</th>\n",
              "      <td>0.620480</td>\n",
              "      <td>-0.713633</td>\n",
              "      <td>0.588235</td>\n",
              "      <td>-0.913406</td>\n",
              "      <td>-0.729829</td>\n",
              "      <td>-0.918091</td>\n",
              "      <td>-0.710862</td>\n",
              "      <td>-1.233736</td>\n",
              "      <td>&lt;1H OCEAN</td>\n",
              "    </tr>\n",
              "    <tr>\n",
              "      <th>16541</th>\n",
              "      <td>-0.830911</td>\n",
              "      <td>1.011403</td>\n",
              "      <td>0.392157</td>\n",
              "      <td>-0.326201</td>\n",
              "      <td>-0.391161</td>\n",
              "      <td>-0.082775</td>\n",
              "      <td>-0.334862</td>\n",
              "      <td>0.114837</td>\n",
              "      <td>INLAND</td>\n",
              "    </tr>\n",
              "  </tbody>\n",
              "</table>\n",
              "</div>"
            ],
            "text/plain": [
              "       longitude  latitude  housing_median_age  total_rooms  total_bedrooms  population  households  median_income ocean_proximity\n",
              "2072   -0.137635  0.534564            0.098039    -0.357368       -0.155975    0.223324   -0.218173      -1.258403          INLAND\n",
              "10600   0.879836 -0.909979            0.137255    -0.276515       -0.447606   -0.452278   -0.417841       1.610623       <1H OCEAN\n",
              "2494   -0.312201  0.455091            0.470588    -0.799127       -0.765107   -0.349517   -0.744572      -1.220425          INLAND\n",
              "4284    0.620480 -0.713633            0.588235    -0.913406       -0.729829   -0.918091   -0.710862      -1.233736       <1H OCEAN\n",
              "16541  -0.830911  1.011403            0.392157    -0.326201       -0.391161   -0.082775   -0.334862       0.114837          INLAND"
            ]
          },
          "metadata": {
            "tags": []
          },
          "execution_count": 195
        }
      ]
    },
    {
      "cell_type": "markdown",
      "metadata": {
        "id": "O_6lvCSkXzc3",
        "colab_type": "text"
      },
      "source": [
        "### Encoding"
      ]
    },
    {
      "cell_type": "code",
      "metadata": {
        "id": "i8AcQexwXASe",
        "colab_type": "code",
        "outputId": "27c2ce44-0a9d-47c8-c96c-93ceb0d5d273",
        "colab": {
          "base_uri": "https://localhost:8080/",
          "height": 221
        }
      },
      "source": [
        "print(\"Classes: \", X_train['ocean_proximity'].unique()) # Categorical classes\n",
        "X_train.head()"
      ],
      "execution_count": 194,
      "outputs": [
        {
          "output_type": "stream",
          "text": [
            "Classes:  ['INLAND' '<1H OCEAN' 'NEAR OCEAN' 'NEAR BAY' 'ISLAND']\n"
          ],
          "name": "stdout"
        },
        {
          "output_type": "execute_result",
          "data": {
            "text/html": [
              "<div>\n",
              "<style scoped>\n",
              "    .dataframe tbody tr th:only-of-type {\n",
              "        vertical-align: middle;\n",
              "    }\n",
              "\n",
              "    .dataframe tbody tr th {\n",
              "        vertical-align: top;\n",
              "    }\n",
              "\n",
              "    .dataframe thead th {\n",
              "        text-align: right;\n",
              "    }\n",
              "</style>\n",
              "<table border=\"1\" class=\"dataframe\">\n",
              "  <thead>\n",
              "    <tr style=\"text-align: right;\">\n",
              "      <th></th>\n",
              "      <th>longitude</th>\n",
              "      <th>latitude</th>\n",
              "      <th>housing_median_age</th>\n",
              "      <th>total_rooms</th>\n",
              "      <th>total_bedrooms</th>\n",
              "      <th>population</th>\n",
              "      <th>households</th>\n",
              "      <th>median_income</th>\n",
              "      <th>ocean_proximity</th>\n",
              "    </tr>\n",
              "  </thead>\n",
              "  <tbody>\n",
              "    <tr>\n",
              "      <th>2072</th>\n",
              "      <td>-119.84</td>\n",
              "      <td>36.77</td>\n",
              "      <td>0.098039</td>\n",
              "      <td>1853.0</td>\n",
              "      <td>473.0</td>\n",
              "      <td>0.223324</td>\n",
              "      <td>417.0</td>\n",
              "      <td>-1.258403</td>\n",
              "      <td>INLAND</td>\n",
              "    </tr>\n",
              "    <tr>\n",
              "      <th>10600</th>\n",
              "      <td>-117.80</td>\n",
              "      <td>33.68</td>\n",
              "      <td>0.137255</td>\n",
              "      <td>2032.0</td>\n",
              "      <td>349.0</td>\n",
              "      <td>-0.452278</td>\n",
              "      <td>340.0</td>\n",
              "      <td>1.610623</td>\n",
              "      <td>&lt;1H OCEAN</td>\n",
              "    </tr>\n",
              "    <tr>\n",
              "      <th>2494</th>\n",
              "      <td>-120.19</td>\n",
              "      <td>36.60</td>\n",
              "      <td>0.470588</td>\n",
              "      <td>875.0</td>\n",
              "      <td>214.0</td>\n",
              "      <td>-0.349517</td>\n",
              "      <td>214.0</td>\n",
              "      <td>-1.220425</td>\n",
              "      <td>INLAND</td>\n",
              "    </tr>\n",
              "    <tr>\n",
              "      <th>4284</th>\n",
              "      <td>-118.32</td>\n",
              "      <td>34.10</td>\n",
              "      <td>0.588235</td>\n",
              "      <td>622.0</td>\n",
              "      <td>229.0</td>\n",
              "      <td>-0.918091</td>\n",
              "      <td>227.0</td>\n",
              "      <td>-1.233736</td>\n",
              "      <td>&lt;1H OCEAN</td>\n",
              "    </tr>\n",
              "    <tr>\n",
              "      <th>16541</th>\n",
              "      <td>-121.23</td>\n",
              "      <td>37.79</td>\n",
              "      <td>0.392157</td>\n",
              "      <td>1922.0</td>\n",
              "      <td>373.0</td>\n",
              "      <td>-0.082775</td>\n",
              "      <td>372.0</td>\n",
              "      <td>0.114837</td>\n",
              "      <td>INLAND</td>\n",
              "    </tr>\n",
              "  </tbody>\n",
              "</table>\n",
              "</div>"
            ],
            "text/plain": [
              "       longitude  latitude  housing_median_age  total_rooms  total_bedrooms  population  households  median_income ocean_proximity\n",
              "2072     -119.84     36.77            0.098039       1853.0           473.0    0.223324       417.0      -1.258403          INLAND\n",
              "10600    -117.80     33.68            0.137255       2032.0           349.0   -0.452278       340.0       1.610623       <1H OCEAN\n",
              "2494     -120.19     36.60            0.470588        875.0           214.0   -0.349517       214.0      -1.220425          INLAND\n",
              "4284     -118.32     34.10            0.588235        622.0           229.0   -0.918091       227.0      -1.233736       <1H OCEAN\n",
              "16541    -121.23     37.79            0.392157       1922.0           373.0   -0.082775       372.0       0.114837          INLAND"
            ]
          },
          "metadata": {
            "tags": []
          },
          "execution_count": 194
        }
      ]
    },
    {
      "cell_type": "code",
      "metadata": {
        "id": "7z-Jm6poXAbN",
        "colab_type": "code",
        "colab": {}
      },
      "source": [
        "# Run a label encoder to transform categorical variables into numerical variables\n",
        "le_ocean_proximity = LabelEncoder()\n",
        "le_ocean_proximity.fit(X_train['ocean_proximity'])\n",
        "X_train['ocean_proximity'] = le_ocean_proximity.transform(X_train['ocean_proximity'])"
      ],
      "execution_count": 0,
      "outputs": []
    },
    {
      "cell_type": "code",
      "metadata": {
        "id": "uz0gm9jxXAg_",
        "colab_type": "code",
        "outputId": "4632579b-0743-41f3-f654-b1d5efb9048f",
        "colab": {
          "base_uri": "https://localhost:8080/",
          "height": 221
        }
      },
      "source": [
        "# Verifying that works\n",
        "print(\"Classes: \", X_train['ocean_proximity'].unique())\n",
        "X_train.head()"
      ],
      "execution_count": 197,
      "outputs": [
        {
          "output_type": "stream",
          "text": [
            "Classes:  [1 0 4 3 2]\n"
          ],
          "name": "stdout"
        },
        {
          "output_type": "execute_result",
          "data": {
            "text/html": [
              "<div>\n",
              "<style scoped>\n",
              "    .dataframe tbody tr th:only-of-type {\n",
              "        vertical-align: middle;\n",
              "    }\n",
              "\n",
              "    .dataframe tbody tr th {\n",
              "        vertical-align: top;\n",
              "    }\n",
              "\n",
              "    .dataframe thead th {\n",
              "        text-align: right;\n",
              "    }\n",
              "</style>\n",
              "<table border=\"1\" class=\"dataframe\">\n",
              "  <thead>\n",
              "    <tr style=\"text-align: right;\">\n",
              "      <th></th>\n",
              "      <th>longitude</th>\n",
              "      <th>latitude</th>\n",
              "      <th>housing_median_age</th>\n",
              "      <th>total_rooms</th>\n",
              "      <th>total_bedrooms</th>\n",
              "      <th>population</th>\n",
              "      <th>households</th>\n",
              "      <th>median_income</th>\n",
              "      <th>ocean_proximity</th>\n",
              "    </tr>\n",
              "  </thead>\n",
              "  <tbody>\n",
              "    <tr>\n",
              "      <th>2072</th>\n",
              "      <td>-0.137635</td>\n",
              "      <td>0.534564</td>\n",
              "      <td>0.098039</td>\n",
              "      <td>-0.357368</td>\n",
              "      <td>-0.155975</td>\n",
              "      <td>0.223324</td>\n",
              "      <td>-0.218173</td>\n",
              "      <td>-1.258403</td>\n",
              "      <td>1</td>\n",
              "    </tr>\n",
              "    <tr>\n",
              "      <th>10600</th>\n",
              "      <td>0.879836</td>\n",
              "      <td>-0.909979</td>\n",
              "      <td>0.137255</td>\n",
              "      <td>-0.276515</td>\n",
              "      <td>-0.447606</td>\n",
              "      <td>-0.452278</td>\n",
              "      <td>-0.417841</td>\n",
              "      <td>1.610623</td>\n",
              "      <td>0</td>\n",
              "    </tr>\n",
              "    <tr>\n",
              "      <th>2494</th>\n",
              "      <td>-0.312201</td>\n",
              "      <td>0.455091</td>\n",
              "      <td>0.470588</td>\n",
              "      <td>-0.799127</td>\n",
              "      <td>-0.765107</td>\n",
              "      <td>-0.349517</td>\n",
              "      <td>-0.744572</td>\n",
              "      <td>-1.220425</td>\n",
              "      <td>1</td>\n",
              "    </tr>\n",
              "    <tr>\n",
              "      <th>4284</th>\n",
              "      <td>0.620480</td>\n",
              "      <td>-0.713633</td>\n",
              "      <td>0.588235</td>\n",
              "      <td>-0.913406</td>\n",
              "      <td>-0.729829</td>\n",
              "      <td>-0.918091</td>\n",
              "      <td>-0.710862</td>\n",
              "      <td>-1.233736</td>\n",
              "      <td>0</td>\n",
              "    </tr>\n",
              "    <tr>\n",
              "      <th>16541</th>\n",
              "      <td>-0.830911</td>\n",
              "      <td>1.011403</td>\n",
              "      <td>0.392157</td>\n",
              "      <td>-0.326201</td>\n",
              "      <td>-0.391161</td>\n",
              "      <td>-0.082775</td>\n",
              "      <td>-0.334862</td>\n",
              "      <td>0.114837</td>\n",
              "      <td>1</td>\n",
              "    </tr>\n",
              "  </tbody>\n",
              "</table>\n",
              "</div>"
            ],
            "text/plain": [
              "       longitude  latitude  housing_median_age  total_rooms  total_bedrooms  population  households  median_income  ocean_proximity\n",
              "2072   -0.137635  0.534564            0.098039    -0.357368       -0.155975    0.223324   -0.218173      -1.258403                1\n",
              "10600   0.879836 -0.909979            0.137255    -0.276515       -0.447606   -0.452278   -0.417841       1.610623                0\n",
              "2494   -0.312201  0.455091            0.470588    -0.799127       -0.765107   -0.349517   -0.744572      -1.220425                1\n",
              "4284    0.620480 -0.713633            0.588235    -0.913406       -0.729829   -0.918091   -0.710862      -1.233736                0\n",
              "16541  -0.830911  1.011403            0.392157    -0.326201       -0.391161   -0.082775   -0.334862       0.114837                1"
            ]
          },
          "metadata": {
            "tags": []
          },
          "execution_count": 197
        }
      ]
    },
    {
      "cell_type": "code",
      "metadata": {
        "id": "OmKiT4eDdbza",
        "colab_type": "code",
        "outputId": "458fda48-02d2-4d10-bc4f-a372503a8a20",
        "colab": {
          "base_uri": "https://localhost:8080/",
          "height": 51
        }
      },
      "source": [
        "le_ocean_proximity.classes_"
      ],
      "execution_count": 198,
      "outputs": [
        {
          "output_type": "execute_result",
          "data": {
            "text/plain": [
              "array(['<1H OCEAN', 'INLAND', 'ISLAND', 'NEAR BAY', 'NEAR OCEAN'],\n",
              "      dtype=object)"
            ]
          },
          "metadata": {
            "tags": []
          },
          "execution_count": 198
        }
      ]
    },
    {
      "cell_type": "code",
      "metadata": {
        "id": "aZYKbrDkXAoO",
        "colab_type": "code",
        "colab": {}
      },
      "source": [
        "# Run a one hot encoding transformer to 'transform' numerical variable into multiple binary variables\n",
        "ohe_ocean_proximity = OneHotEncoder()\n",
        "ohe_ocean_proximity.fit(X_train[\"ocean_proximity\"].values[:,None])\n",
        "out = ohe_ocean_proximity.transform(X_train[\"ocean_proximity\"].values[:,None])\n",
        "\n",
        "# Add a new column for evey category created\n",
        "out_array = out.toarray()\n",
        "ohe_cols_op = []\n",
        "for category in ohe_ocean_proximity.categories_[0]:\n",
        "  current_class = le_ocean_proximity.classes_[int(category)]\n",
        "  col_add = \"op_\" + current_class\n",
        "  ohe_cols_op.append(col_add)\n",
        "  X_train[col_add] = out_array[:,int(category)]\n",
        "\n",
        "# Drop existent numerical ocean_proximity column\n",
        "X_train = X_train.drop(\"ocean_proximity\", axis =1)"
      ],
      "execution_count": 0,
      "outputs": []
    },
    {
      "cell_type": "code",
      "metadata": {
        "id": "0oW0bmSyqPiK",
        "colab_type": "code",
        "outputId": "1f46b6dc-c7fd-4276-e580-b74c9b6bb2e1",
        "colab": {
          "base_uri": "https://localhost:8080/",
          "height": 241
        }
      },
      "source": [
        "X_train.head()"
      ],
      "execution_count": 200,
      "outputs": [
        {
          "output_type": "execute_result",
          "data": {
            "text/html": [
              "<div>\n",
              "<style scoped>\n",
              "    .dataframe tbody tr th:only-of-type {\n",
              "        vertical-align: middle;\n",
              "    }\n",
              "\n",
              "    .dataframe tbody tr th {\n",
              "        vertical-align: top;\n",
              "    }\n",
              "\n",
              "    .dataframe thead th {\n",
              "        text-align: right;\n",
              "    }\n",
              "</style>\n",
              "<table border=\"1\" class=\"dataframe\">\n",
              "  <thead>\n",
              "    <tr style=\"text-align: right;\">\n",
              "      <th></th>\n",
              "      <th>longitude</th>\n",
              "      <th>latitude</th>\n",
              "      <th>housing_median_age</th>\n",
              "      <th>total_rooms</th>\n",
              "      <th>total_bedrooms</th>\n",
              "      <th>population</th>\n",
              "      <th>households</th>\n",
              "      <th>median_income</th>\n",
              "      <th>op_&lt;1H OCEAN</th>\n",
              "      <th>op_INLAND</th>\n",
              "      <th>op_ISLAND</th>\n",
              "      <th>op_NEAR BAY</th>\n",
              "      <th>op_NEAR OCEAN</th>\n",
              "    </tr>\n",
              "  </thead>\n",
              "  <tbody>\n",
              "    <tr>\n",
              "      <th>2072</th>\n",
              "      <td>-0.137635</td>\n",
              "      <td>0.534564</td>\n",
              "      <td>0.098039</td>\n",
              "      <td>-0.357368</td>\n",
              "      <td>-0.155975</td>\n",
              "      <td>0.223324</td>\n",
              "      <td>-0.218173</td>\n",
              "      <td>-1.258403</td>\n",
              "      <td>0.0</td>\n",
              "      <td>1.0</td>\n",
              "      <td>0.0</td>\n",
              "      <td>0.0</td>\n",
              "      <td>0.0</td>\n",
              "    </tr>\n",
              "    <tr>\n",
              "      <th>10600</th>\n",
              "      <td>0.879836</td>\n",
              "      <td>-0.909979</td>\n",
              "      <td>0.137255</td>\n",
              "      <td>-0.276515</td>\n",
              "      <td>-0.447606</td>\n",
              "      <td>-0.452278</td>\n",
              "      <td>-0.417841</td>\n",
              "      <td>1.610623</td>\n",
              "      <td>1.0</td>\n",
              "      <td>0.0</td>\n",
              "      <td>0.0</td>\n",
              "      <td>0.0</td>\n",
              "      <td>0.0</td>\n",
              "    </tr>\n",
              "    <tr>\n",
              "      <th>2494</th>\n",
              "      <td>-0.312201</td>\n",
              "      <td>0.455091</td>\n",
              "      <td>0.470588</td>\n",
              "      <td>-0.799127</td>\n",
              "      <td>-0.765107</td>\n",
              "      <td>-0.349517</td>\n",
              "      <td>-0.744572</td>\n",
              "      <td>-1.220425</td>\n",
              "      <td>0.0</td>\n",
              "      <td>1.0</td>\n",
              "      <td>0.0</td>\n",
              "      <td>0.0</td>\n",
              "      <td>0.0</td>\n",
              "    </tr>\n",
              "    <tr>\n",
              "      <th>4284</th>\n",
              "      <td>0.620480</td>\n",
              "      <td>-0.713633</td>\n",
              "      <td>0.588235</td>\n",
              "      <td>-0.913406</td>\n",
              "      <td>-0.729829</td>\n",
              "      <td>-0.918091</td>\n",
              "      <td>-0.710862</td>\n",
              "      <td>-1.233736</td>\n",
              "      <td>1.0</td>\n",
              "      <td>0.0</td>\n",
              "      <td>0.0</td>\n",
              "      <td>0.0</td>\n",
              "      <td>0.0</td>\n",
              "    </tr>\n",
              "    <tr>\n",
              "      <th>16541</th>\n",
              "      <td>-0.830911</td>\n",
              "      <td>1.011403</td>\n",
              "      <td>0.392157</td>\n",
              "      <td>-0.326201</td>\n",
              "      <td>-0.391161</td>\n",
              "      <td>-0.082775</td>\n",
              "      <td>-0.334862</td>\n",
              "      <td>0.114837</td>\n",
              "      <td>0.0</td>\n",
              "      <td>1.0</td>\n",
              "      <td>0.0</td>\n",
              "      <td>0.0</td>\n",
              "      <td>0.0</td>\n",
              "    </tr>\n",
              "  </tbody>\n",
              "</table>\n",
              "</div>"
            ],
            "text/plain": [
              "       longitude  latitude  housing_median_age  total_rooms  total_bedrooms  population  households  median_income  op_<1H OCEAN  op_INLAND  op_ISLAND  op_NEAR BAY  op_NEAR OCEAN\n",
              "2072   -0.137635  0.534564            0.098039    -0.357368       -0.155975    0.223324   -0.218173      -1.258403           0.0        1.0        0.0          0.0            0.0\n",
              "10600   0.879836 -0.909979            0.137255    -0.276515       -0.447606   -0.452278   -0.417841       1.610623           1.0        0.0        0.0          0.0            0.0\n",
              "2494   -0.312201  0.455091            0.470588    -0.799127       -0.765107   -0.349517   -0.744572      -1.220425           0.0        1.0        0.0          0.0            0.0\n",
              "4284    0.620480 -0.713633            0.588235    -0.913406       -0.729829   -0.918091   -0.710862      -1.233736           1.0        0.0        0.0          0.0            0.0\n",
              "16541  -0.830911  1.011403            0.392157    -0.326201       -0.391161   -0.082775   -0.334862       0.114837           0.0        1.0        0.0          0.0            0.0"
            ]
          },
          "metadata": {
            "tags": []
          },
          "execution_count": 200
        }
      ]
    },
    {
      "cell_type": "markdown",
      "metadata": {
        "id": "kUemJrwXwcET",
        "colab_type": "text"
      },
      "source": [
        "### Missing Values"
      ]
    },
    {
      "cell_type": "code",
      "metadata": {
        "id": "b41YJwk5xwAM",
        "colab_type": "code",
        "outputId": "20024122-6cf3-41b6-e9a1-a64276baeac5",
        "colab": {
          "base_uri": "https://localhost:8080/",
          "height": 255
        }
      },
      "source": [
        "from sklearn.impute import SimpleImputer\n",
        "\n",
        "# Looking for NaNs\n",
        "X_train.isnull().sum()"
      ],
      "execution_count": 204,
      "outputs": [
        {
          "output_type": "execute_result",
          "data": {
            "text/plain": [
              "longitude               0\n",
              "latitude                0\n",
              "housing_median_age      0\n",
              "total_rooms             0\n",
              "total_bedrooms        176\n",
              "population              0\n",
              "households              0\n",
              "median_income           0\n",
              "op_<1H OCEAN            0\n",
              "op_INLAND               0\n",
              "op_ISLAND               0\n",
              "op_NEAR BAY             0\n",
              "op_NEAR OCEAN           0\n",
              "dtype: int64"
            ]
          },
          "metadata": {
            "tags": []
          },
          "execution_count": 204
        }
      ]
    },
    {
      "cell_type": "code",
      "metadata": {
        "id": "6D4g_wRKx3nS",
        "colab_type": "code",
        "colab": {}
      },
      "source": [
        "# Completing missing values with median \n",
        "si_total_bedrooms = SimpleImputer(strategy='median')\n",
        "si_total_bedrooms.fit(X_train[\"total_bedrooms\"].values[:,None])\n",
        "X_train[\"total_bedrooms\"] = si_total_bedrooms.transform(X_train[\"total_bedrooms\"].values[:,None])"
      ],
      "execution_count": 0,
      "outputs": []
    },
    {
      "cell_type": "code",
      "metadata": {
        "id": "LhdfGUUUywLr",
        "colab_type": "code",
        "outputId": "1bd5bfa6-40a9-4011-8d4a-fa1bec2d51da",
        "colab": {
          "base_uri": "https://localhost:8080/",
          "height": 255
        }
      },
      "source": [
        "# Verifying that works\n",
        "X_train.isnull().sum()"
      ],
      "execution_count": 207,
      "outputs": [
        {
          "output_type": "execute_result",
          "data": {
            "text/plain": [
              "longitude             0\n",
              "latitude              0\n",
              "housing_median_age    0\n",
              "total_rooms           0\n",
              "total_bedrooms        0\n",
              "population            0\n",
              "households            0\n",
              "median_income         0\n",
              "op_<1H OCEAN          0\n",
              "op_INLAND             0\n",
              "op_ISLAND             0\n",
              "op_NEAR BAY           0\n",
              "op_NEAR OCEAN         0\n",
              "dtype: int64"
            ]
          },
          "metadata": {
            "tags": []
          },
          "execution_count": 207
        }
      ]
    },
    {
      "cell_type": "code",
      "metadata": {
        "id": "K5S7O-CQ5Tq4",
        "colab_type": "code",
        "outputId": "ca3f11cd-61aa-404f-97cd-de7d4a643985",
        "colab": {
          "base_uri": "https://localhost:8080/",
          "height": 241
        }
      },
      "source": [
        "X_train.head()"
      ],
      "execution_count": 208,
      "outputs": [
        {
          "output_type": "execute_result",
          "data": {
            "text/html": [
              "<div>\n",
              "<style scoped>\n",
              "    .dataframe tbody tr th:only-of-type {\n",
              "        vertical-align: middle;\n",
              "    }\n",
              "\n",
              "    .dataframe tbody tr th {\n",
              "        vertical-align: top;\n",
              "    }\n",
              "\n",
              "    .dataframe thead th {\n",
              "        text-align: right;\n",
              "    }\n",
              "</style>\n",
              "<table border=\"1\" class=\"dataframe\">\n",
              "  <thead>\n",
              "    <tr style=\"text-align: right;\">\n",
              "      <th></th>\n",
              "      <th>longitude</th>\n",
              "      <th>latitude</th>\n",
              "      <th>housing_median_age</th>\n",
              "      <th>total_rooms</th>\n",
              "      <th>total_bedrooms</th>\n",
              "      <th>population</th>\n",
              "      <th>households</th>\n",
              "      <th>median_income</th>\n",
              "      <th>op_&lt;1H OCEAN</th>\n",
              "      <th>op_INLAND</th>\n",
              "      <th>op_ISLAND</th>\n",
              "      <th>op_NEAR BAY</th>\n",
              "      <th>op_NEAR OCEAN</th>\n",
              "    </tr>\n",
              "  </thead>\n",
              "  <tbody>\n",
              "    <tr>\n",
              "      <th>2072</th>\n",
              "      <td>-0.137635</td>\n",
              "      <td>0.534564</td>\n",
              "      <td>0.098039</td>\n",
              "      <td>-0.357368</td>\n",
              "      <td>-0.155975</td>\n",
              "      <td>0.223324</td>\n",
              "      <td>-0.218173</td>\n",
              "      <td>-1.258403</td>\n",
              "      <td>0.0</td>\n",
              "      <td>1.0</td>\n",
              "      <td>0.0</td>\n",
              "      <td>0.0</td>\n",
              "      <td>0.0</td>\n",
              "    </tr>\n",
              "    <tr>\n",
              "      <th>10600</th>\n",
              "      <td>0.879836</td>\n",
              "      <td>-0.909979</td>\n",
              "      <td>0.137255</td>\n",
              "      <td>-0.276515</td>\n",
              "      <td>-0.447606</td>\n",
              "      <td>-0.452278</td>\n",
              "      <td>-0.417841</td>\n",
              "      <td>1.610623</td>\n",
              "      <td>1.0</td>\n",
              "      <td>0.0</td>\n",
              "      <td>0.0</td>\n",
              "      <td>0.0</td>\n",
              "      <td>0.0</td>\n",
              "    </tr>\n",
              "    <tr>\n",
              "      <th>2494</th>\n",
              "      <td>-0.312201</td>\n",
              "      <td>0.455091</td>\n",
              "      <td>0.470588</td>\n",
              "      <td>-0.799127</td>\n",
              "      <td>-0.765107</td>\n",
              "      <td>-0.349517</td>\n",
              "      <td>-0.744572</td>\n",
              "      <td>-1.220425</td>\n",
              "      <td>0.0</td>\n",
              "      <td>1.0</td>\n",
              "      <td>0.0</td>\n",
              "      <td>0.0</td>\n",
              "      <td>0.0</td>\n",
              "    </tr>\n",
              "    <tr>\n",
              "      <th>4284</th>\n",
              "      <td>0.620480</td>\n",
              "      <td>-0.713633</td>\n",
              "      <td>0.588235</td>\n",
              "      <td>-0.913406</td>\n",
              "      <td>-0.729829</td>\n",
              "      <td>-0.918091</td>\n",
              "      <td>-0.710862</td>\n",
              "      <td>-1.233736</td>\n",
              "      <td>1.0</td>\n",
              "      <td>0.0</td>\n",
              "      <td>0.0</td>\n",
              "      <td>0.0</td>\n",
              "      <td>0.0</td>\n",
              "    </tr>\n",
              "    <tr>\n",
              "      <th>16541</th>\n",
              "      <td>-0.830911</td>\n",
              "      <td>1.011403</td>\n",
              "      <td>0.392157</td>\n",
              "      <td>-0.326201</td>\n",
              "      <td>-0.391161</td>\n",
              "      <td>-0.082775</td>\n",
              "      <td>-0.334862</td>\n",
              "      <td>0.114837</td>\n",
              "      <td>0.0</td>\n",
              "      <td>1.0</td>\n",
              "      <td>0.0</td>\n",
              "      <td>0.0</td>\n",
              "      <td>0.0</td>\n",
              "    </tr>\n",
              "  </tbody>\n",
              "</table>\n",
              "</div>"
            ],
            "text/plain": [
              "       longitude  latitude  housing_median_age  total_rooms  total_bedrooms  population  households  median_income  op_<1H OCEAN  op_INLAND  op_ISLAND  op_NEAR BAY  op_NEAR OCEAN\n",
              "2072   -0.137635  0.534564            0.098039    -0.357368       -0.155975    0.223324   -0.218173      -1.258403           0.0        1.0        0.0          0.0            0.0\n",
              "10600   0.879836 -0.909979            0.137255    -0.276515       -0.447606   -0.452278   -0.417841       1.610623           1.0        0.0        0.0          0.0            0.0\n",
              "2494   -0.312201  0.455091            0.470588    -0.799127       -0.765107   -0.349517   -0.744572      -1.220425           0.0        1.0        0.0          0.0            0.0\n",
              "4284    0.620480 -0.713633            0.588235    -0.913406       -0.729829   -0.918091   -0.710862      -1.233736           1.0        0.0        0.0          0.0            0.0\n",
              "16541  -0.830911  1.011403            0.392157    -0.326201       -0.391161   -0.082775   -0.334862       0.114837           0.0        1.0        0.0          0.0            0.0"
            ]
          },
          "metadata": {
            "tags": []
          },
          "execution_count": 208
        }
      ]
    },
    {
      "cell_type": "markdown",
      "metadata": {
        "id": "qQPPNa2Lz3rw",
        "colab_type": "text"
      },
      "source": [
        "## Preprocessing Test Data"
      ]
    },
    {
      "cell_type": "markdown",
      "metadata": {
        "id": "ihteNBn2xa75",
        "colab_type": "text"
      },
      "source": [
        "### Scaling"
      ]
    },
    {
      "cell_type": "code",
      "metadata": {
        "id": "pAwN5W617RKW",
        "colab_type": "code",
        "outputId": "684278fb-2589-46ee-997b-52882017c04e",
        "colab": {
          "base_uri": "https://localhost:8080/",
          "height": 204
        }
      },
      "source": [
        "X_test.head()"
      ],
      "execution_count": 209,
      "outputs": [
        {
          "output_type": "execute_result",
          "data": {
            "text/html": [
              "<div>\n",
              "<style scoped>\n",
              "    .dataframe tbody tr th:only-of-type {\n",
              "        vertical-align: middle;\n",
              "    }\n",
              "\n",
              "    .dataframe tbody tr th {\n",
              "        vertical-align: top;\n",
              "    }\n",
              "\n",
              "    .dataframe thead th {\n",
              "        text-align: right;\n",
              "    }\n",
              "</style>\n",
              "<table border=\"1\" class=\"dataframe\">\n",
              "  <thead>\n",
              "    <tr style=\"text-align: right;\">\n",
              "      <th></th>\n",
              "      <th>longitude</th>\n",
              "      <th>latitude</th>\n",
              "      <th>housing_median_age</th>\n",
              "      <th>total_rooms</th>\n",
              "      <th>total_bedrooms</th>\n",
              "      <th>population</th>\n",
              "      <th>households</th>\n",
              "      <th>median_income</th>\n",
              "      <th>ocean_proximity</th>\n",
              "    </tr>\n",
              "  </thead>\n",
              "  <tbody>\n",
              "    <tr>\n",
              "      <th>10385</th>\n",
              "      <td>-117.65</td>\n",
              "      <td>33.60</td>\n",
              "      <td>15.0</td>\n",
              "      <td>5736.0</td>\n",
              "      <td>NaN</td>\n",
              "      <td>2529.0</td>\n",
              "      <td>762.0</td>\n",
              "      <td>6.4114</td>\n",
              "      <td>&lt;1H OCEAN</td>\n",
              "    </tr>\n",
              "    <tr>\n",
              "      <th>1943</th>\n",
              "      <td>-120.91</td>\n",
              "      <td>38.62</td>\n",
              "      <td>12.0</td>\n",
              "      <td>4545.0</td>\n",
              "      <td>748.0</td>\n",
              "      <td>2033.0</td>\n",
              "      <td>718.0</td>\n",
              "      <td>4.1843</td>\n",
              "      <td>INLAND</td>\n",
              "    </tr>\n",
              "    <tr>\n",
              "      <th>7490</th>\n",
              "      <td>-118.23</td>\n",
              "      <td>33.93</td>\n",
              "      <td>35.0</td>\n",
              "      <td>1149.0</td>\n",
              "      <td>277.0</td>\n",
              "      <td>909.0</td>\n",
              "      <td>214.0</td>\n",
              "      <td>1.7411</td>\n",
              "      <td>&lt;1H OCEAN</td>\n",
              "    </tr>\n",
              "    <tr>\n",
              "      <th>16889</th>\n",
              "      <td>-122.37</td>\n",
              "      <td>37.59</td>\n",
              "      <td>39.0</td>\n",
              "      <td>4645.0</td>\n",
              "      <td>1196.0</td>\n",
              "      <td>2156.0</td>\n",
              "      <td>1113.0</td>\n",
              "      <td>3.4412</td>\n",
              "      <td>NEAR OCEAN</td>\n",
              "    </tr>\n",
              "    <tr>\n",
              "      <th>11416</th>\n",
              "      <td>-117.98</td>\n",
              "      <td>33.70</td>\n",
              "      <td>16.0</td>\n",
              "      <td>5127.0</td>\n",
              "      <td>631.0</td>\n",
              "      <td>2142.0</td>\n",
              "      <td>596.0</td>\n",
              "      <td>7.8195</td>\n",
              "      <td>&lt;1H OCEAN</td>\n",
              "    </tr>\n",
              "  </tbody>\n",
              "</table>\n",
              "</div>"
            ],
            "text/plain": [
              "       longitude  latitude  housing_median_age  total_rooms  total_bedrooms  population  households  median_income ocean_proximity\n",
              "10385    -117.65     33.60                15.0       5736.0             NaN      2529.0       762.0         6.4114       <1H OCEAN\n",
              "1943     -120.91     38.62                12.0       4545.0           748.0      2033.0       718.0         4.1843          INLAND\n",
              "7490     -118.23     33.93                35.0       1149.0           277.0       909.0       214.0         1.7411       <1H OCEAN\n",
              "16889    -122.37     37.59                39.0       4645.0          1196.0      2156.0      1113.0         3.4412      NEAR OCEAN\n",
              "11416    -117.98     33.70                16.0       5127.0           631.0      2142.0       596.0         7.8195       <1H OCEAN"
            ]
          },
          "metadata": {
            "tags": []
          },
          "execution_count": 209
        }
      ]
    },
    {
      "cell_type": "code",
      "metadata": {
        "id": "3_H-xuXU0SX5",
        "colab_type": "code",
        "outputId": "9f7b60a3-c7d9-432c-c15f-6cbc51043ffe",
        "colab": {
          "base_uri": "https://localhost:8080/",
          "height": 204
        }
      },
      "source": [
        "# Using same objects created to transform train data with the purpose of performing same operations with same values to test data\n",
        "X_test['population'] = box_cox.transform(X_test['population'].values[:,None])\n",
        "X_test['median_income'] = sc_median_income.transform(X_test['median_income'].values[:,None])\n",
        "X_test['housing_median_age'] = min_max_housing_median.transform(X_test['housing_median_age'].values[:,None])\n",
        "X_test[cols2scale] = se_cols2scale.transform(X_test[cols2scale])\n",
        "\n",
        "X_test.head()"
      ],
      "execution_count": 211,
      "outputs": [
        {
          "output_type": "execute_result",
          "data": {
            "text/html": [
              "<div>\n",
              "<style scoped>\n",
              "    .dataframe tbody tr th:only-of-type {\n",
              "        vertical-align: middle;\n",
              "    }\n",
              "\n",
              "    .dataframe tbody tr th {\n",
              "        vertical-align: top;\n",
              "    }\n",
              "\n",
              "    .dataframe thead th {\n",
              "        text-align: right;\n",
              "    }\n",
              "</style>\n",
              "<table border=\"1\" class=\"dataframe\">\n",
              "  <thead>\n",
              "    <tr style=\"text-align: right;\">\n",
              "      <th></th>\n",
              "      <th>longitude</th>\n",
              "      <th>latitude</th>\n",
              "      <th>housing_median_age</th>\n",
              "      <th>total_rooms</th>\n",
              "      <th>total_bedrooms</th>\n",
              "      <th>population</th>\n",
              "      <th>households</th>\n",
              "      <th>median_income</th>\n",
              "      <th>ocean_proximity</th>\n",
              "    </tr>\n",
              "  </thead>\n",
              "  <tbody>\n",
              "    <tr>\n",
              "      <th>10385</th>\n",
              "      <td>0.954649</td>\n",
              "      <td>-0.947378</td>\n",
              "      <td>0.274510</td>\n",
              "      <td>1.396566</td>\n",
              "      <td>NaN</td>\n",
              "      <td>1.164000</td>\n",
              "      <td>0.676446</td>\n",
              "      <td>1.345514</td>\n",
              "      <td>&lt;1H OCEAN</td>\n",
              "    </tr>\n",
              "    <tr>\n",
              "      <th>1943</th>\n",
              "      <td>-0.671308</td>\n",
              "      <td>1.399419</td>\n",
              "      <td>0.215686</td>\n",
              "      <td>0.858597</td>\n",
              "      <td>0.490788</td>\n",
              "      <td>0.802898</td>\n",
              "      <td>0.562350</td>\n",
              "      <td>0.169137</td>\n",
              "      <td>INLAND</td>\n",
              "    </tr>\n",
              "    <tr>\n",
              "      <th>7490</th>\n",
              "      <td>0.665369</td>\n",
              "      <td>-0.793107</td>\n",
              "      <td>0.666667</td>\n",
              "      <td>-0.675362</td>\n",
              "      <td>-0.616940</td>\n",
              "      <td>-0.381626</td>\n",
              "      <td>-0.744572</td>\n",
              "      <td>-1.121385</td>\n",
              "      <td>&lt;1H OCEAN</td>\n",
              "    </tr>\n",
              "    <tr>\n",
              "      <th>16889</th>\n",
              "      <td>-1.399497</td>\n",
              "      <td>0.917905</td>\n",
              "      <td>0.745098</td>\n",
              "      <td>0.903766</td>\n",
              "      <td>1.544423</td>\n",
              "      <td>0.898277</td>\n",
              "      <td>1.586624</td>\n",
              "      <td>-0.223375</td>\n",
              "      <td>NEAR OCEAN</td>\n",
              "    </tr>\n",
              "    <tr>\n",
              "      <th>11416</th>\n",
              "      <td>0.790059</td>\n",
              "      <td>-0.900629</td>\n",
              "      <td>0.294118</td>\n",
              "      <td>1.121484</td>\n",
              "      <td>0.215620</td>\n",
              "      <td>0.887635</td>\n",
              "      <td>0.245992</td>\n",
              "      <td>2.089287</td>\n",
              "      <td>&lt;1H OCEAN</td>\n",
              "    </tr>\n",
              "  </tbody>\n",
              "</table>\n",
              "</div>"
            ],
            "text/plain": [
              "       longitude  latitude  housing_median_age  total_rooms  total_bedrooms  population  households  median_income ocean_proximity\n",
              "10385   0.954649 -0.947378            0.274510     1.396566             NaN    1.164000    0.676446       1.345514       <1H OCEAN\n",
              "1943   -0.671308  1.399419            0.215686     0.858597        0.490788    0.802898    0.562350       0.169137          INLAND\n",
              "7490    0.665369 -0.793107            0.666667    -0.675362       -0.616940   -0.381626   -0.744572      -1.121385       <1H OCEAN\n",
              "16889  -1.399497  0.917905            0.745098     0.903766        1.544423    0.898277    1.586624      -0.223375      NEAR OCEAN\n",
              "11416   0.790059 -0.900629            0.294118     1.121484        0.215620    0.887635    0.245992       2.089287       <1H OCEAN"
            ]
          },
          "metadata": {
            "tags": []
          },
          "execution_count": 211
        }
      ]
    },
    {
      "cell_type": "markdown",
      "metadata": {
        "id": "p0lEYZopxyW2",
        "colab_type": "text"
      },
      "source": [
        "### Encoding"
      ]
    },
    {
      "cell_type": "code",
      "metadata": {
        "id": "ZbBRZd3-2knC",
        "colab_type": "code",
        "colab": {}
      },
      "source": [
        "# Using same objects created to transform train data\n",
        "X_test[\"ocean_proximity\"] = le_ocean_proximity.transform(X_test[\"ocean_proximity\"])\n",
        "\n",
        "temp_test = ohe_ocean_proximity.transform(X_test[\"ocean_proximity\"].values[:,None]).toarray()\n",
        "for idx, col in enumerate(ohe_cols_op):\n",
        "  X_test[col] = temp_test[:,idx]\n",
        "\n",
        "X_test = X_test.drop(\"ocean_proximity\", axis=1)"
      ],
      "execution_count": 0,
      "outputs": []
    },
    {
      "cell_type": "code",
      "metadata": {
        "id": "zlfUYCXyD5VA",
        "colab_type": "code",
        "outputId": "5a3b5d22-91dd-4a94-860b-46bb2dfc6473",
        "colab": {
          "base_uri": "https://localhost:8080/",
          "height": 241
        }
      },
      "source": [
        "X_test.head()"
      ],
      "execution_count": 214,
      "outputs": [
        {
          "output_type": "execute_result",
          "data": {
            "text/html": [
              "<div>\n",
              "<style scoped>\n",
              "    .dataframe tbody tr th:only-of-type {\n",
              "        vertical-align: middle;\n",
              "    }\n",
              "\n",
              "    .dataframe tbody tr th {\n",
              "        vertical-align: top;\n",
              "    }\n",
              "\n",
              "    .dataframe thead th {\n",
              "        text-align: right;\n",
              "    }\n",
              "</style>\n",
              "<table border=\"1\" class=\"dataframe\">\n",
              "  <thead>\n",
              "    <tr style=\"text-align: right;\">\n",
              "      <th></th>\n",
              "      <th>longitude</th>\n",
              "      <th>latitude</th>\n",
              "      <th>housing_median_age</th>\n",
              "      <th>total_rooms</th>\n",
              "      <th>total_bedrooms</th>\n",
              "      <th>population</th>\n",
              "      <th>households</th>\n",
              "      <th>median_income</th>\n",
              "      <th>op_&lt;1H OCEAN</th>\n",
              "      <th>op_INLAND</th>\n",
              "      <th>op_ISLAND</th>\n",
              "      <th>op_NEAR BAY</th>\n",
              "      <th>op_NEAR OCEAN</th>\n",
              "    </tr>\n",
              "  </thead>\n",
              "  <tbody>\n",
              "    <tr>\n",
              "      <th>10385</th>\n",
              "      <td>0.954649</td>\n",
              "      <td>-0.947378</td>\n",
              "      <td>0.274510</td>\n",
              "      <td>1.396566</td>\n",
              "      <td>NaN</td>\n",
              "      <td>1.164000</td>\n",
              "      <td>0.676446</td>\n",
              "      <td>1.345514</td>\n",
              "      <td>1.0</td>\n",
              "      <td>0.0</td>\n",
              "      <td>0.0</td>\n",
              "      <td>0.0</td>\n",
              "      <td>0.0</td>\n",
              "    </tr>\n",
              "    <tr>\n",
              "      <th>1943</th>\n",
              "      <td>-0.671308</td>\n",
              "      <td>1.399419</td>\n",
              "      <td>0.215686</td>\n",
              "      <td>0.858597</td>\n",
              "      <td>0.490788</td>\n",
              "      <td>0.802898</td>\n",
              "      <td>0.562350</td>\n",
              "      <td>0.169137</td>\n",
              "      <td>0.0</td>\n",
              "      <td>1.0</td>\n",
              "      <td>0.0</td>\n",
              "      <td>0.0</td>\n",
              "      <td>0.0</td>\n",
              "    </tr>\n",
              "    <tr>\n",
              "      <th>7490</th>\n",
              "      <td>0.665369</td>\n",
              "      <td>-0.793107</td>\n",
              "      <td>0.666667</td>\n",
              "      <td>-0.675362</td>\n",
              "      <td>-0.616940</td>\n",
              "      <td>-0.381626</td>\n",
              "      <td>-0.744572</td>\n",
              "      <td>-1.121385</td>\n",
              "      <td>1.0</td>\n",
              "      <td>0.0</td>\n",
              "      <td>0.0</td>\n",
              "      <td>0.0</td>\n",
              "      <td>0.0</td>\n",
              "    </tr>\n",
              "    <tr>\n",
              "      <th>16889</th>\n",
              "      <td>-1.399497</td>\n",
              "      <td>0.917905</td>\n",
              "      <td>0.745098</td>\n",
              "      <td>0.903766</td>\n",
              "      <td>1.544423</td>\n",
              "      <td>0.898277</td>\n",
              "      <td>1.586624</td>\n",
              "      <td>-0.223375</td>\n",
              "      <td>0.0</td>\n",
              "      <td>0.0</td>\n",
              "      <td>0.0</td>\n",
              "      <td>0.0</td>\n",
              "      <td>1.0</td>\n",
              "    </tr>\n",
              "    <tr>\n",
              "      <th>11416</th>\n",
              "      <td>0.790059</td>\n",
              "      <td>-0.900629</td>\n",
              "      <td>0.294118</td>\n",
              "      <td>1.121484</td>\n",
              "      <td>0.215620</td>\n",
              "      <td>0.887635</td>\n",
              "      <td>0.245992</td>\n",
              "      <td>2.089287</td>\n",
              "      <td>1.0</td>\n",
              "      <td>0.0</td>\n",
              "      <td>0.0</td>\n",
              "      <td>0.0</td>\n",
              "      <td>0.0</td>\n",
              "    </tr>\n",
              "  </tbody>\n",
              "</table>\n",
              "</div>"
            ],
            "text/plain": [
              "       longitude  latitude  housing_median_age  total_rooms  total_bedrooms  population  households  median_income  op_<1H OCEAN  op_INLAND  op_ISLAND  op_NEAR BAY  op_NEAR OCEAN\n",
              "10385   0.954649 -0.947378            0.274510     1.396566             NaN    1.164000    0.676446       1.345514           1.0        0.0        0.0          0.0            0.0\n",
              "1943   -0.671308  1.399419            0.215686     0.858597        0.490788    0.802898    0.562350       0.169137           0.0        1.0        0.0          0.0            0.0\n",
              "7490    0.665369 -0.793107            0.666667    -0.675362       -0.616940   -0.381626   -0.744572      -1.121385           1.0        0.0        0.0          0.0            0.0\n",
              "16889  -1.399497  0.917905            0.745098     0.903766        1.544423    0.898277    1.586624      -0.223375           0.0        0.0        0.0          0.0            1.0\n",
              "11416   0.790059 -0.900629            0.294118     1.121484        0.215620    0.887635    0.245992       2.089287           1.0        0.0        0.0          0.0            0.0"
            ]
          },
          "metadata": {
            "tags": []
          },
          "execution_count": 214
        }
      ]
    },
    {
      "cell_type": "markdown",
      "metadata": {
        "id": "fsm4xFgFyFDd",
        "colab_type": "text"
      },
      "source": [
        "### Missing Values"
      ]
    },
    {
      "cell_type": "code",
      "metadata": {
        "id": "EWBBN92b2lsY",
        "colab_type": "code",
        "outputId": "eb47d5a5-7bb5-4e5d-ac9b-07e0720b3d40",
        "colab": {
          "base_uri": "https://localhost:8080/",
          "height": 241
        }
      },
      "source": [
        "X_test[\"total_bedrooms\"] = si_total_bedrooms.transform(X_test[\"total_bedrooms\"].values[:,None])\n",
        "X_test.head()"
      ],
      "execution_count": 220,
      "outputs": [
        {
          "output_type": "execute_result",
          "data": {
            "text/html": [
              "<div>\n",
              "<style scoped>\n",
              "    .dataframe tbody tr th:only-of-type {\n",
              "        vertical-align: middle;\n",
              "    }\n",
              "\n",
              "    .dataframe tbody tr th {\n",
              "        vertical-align: top;\n",
              "    }\n",
              "\n",
              "    .dataframe thead th {\n",
              "        text-align: right;\n",
              "    }\n",
              "</style>\n",
              "<table border=\"1\" class=\"dataframe\">\n",
              "  <thead>\n",
              "    <tr style=\"text-align: right;\">\n",
              "      <th></th>\n",
              "      <th>longitude</th>\n",
              "      <th>latitude</th>\n",
              "      <th>housing_median_age</th>\n",
              "      <th>total_rooms</th>\n",
              "      <th>total_bedrooms</th>\n",
              "      <th>population</th>\n",
              "      <th>households</th>\n",
              "      <th>median_income</th>\n",
              "      <th>op_&lt;1H OCEAN</th>\n",
              "      <th>op_INLAND</th>\n",
              "      <th>op_ISLAND</th>\n",
              "      <th>op_NEAR BAY</th>\n",
              "      <th>op_NEAR OCEAN</th>\n",
              "    </tr>\n",
              "  </thead>\n",
              "  <tbody>\n",
              "    <tr>\n",
              "      <th>10385</th>\n",
              "      <td>0.954649</td>\n",
              "      <td>-0.947378</td>\n",
              "      <td>0.274510</td>\n",
              "      <td>1.396566</td>\n",
              "      <td>-0.245345</td>\n",
              "      <td>1.164000</td>\n",
              "      <td>0.676446</td>\n",
              "      <td>1.345514</td>\n",
              "      <td>1.0</td>\n",
              "      <td>0.0</td>\n",
              "      <td>0.0</td>\n",
              "      <td>0.0</td>\n",
              "      <td>0.0</td>\n",
              "    </tr>\n",
              "    <tr>\n",
              "      <th>1943</th>\n",
              "      <td>-0.671308</td>\n",
              "      <td>1.399419</td>\n",
              "      <td>0.215686</td>\n",
              "      <td>0.858597</td>\n",
              "      <td>0.490788</td>\n",
              "      <td>0.802898</td>\n",
              "      <td>0.562350</td>\n",
              "      <td>0.169137</td>\n",
              "      <td>0.0</td>\n",
              "      <td>1.0</td>\n",
              "      <td>0.0</td>\n",
              "      <td>0.0</td>\n",
              "      <td>0.0</td>\n",
              "    </tr>\n",
              "    <tr>\n",
              "      <th>7490</th>\n",
              "      <td>0.665369</td>\n",
              "      <td>-0.793107</td>\n",
              "      <td>0.666667</td>\n",
              "      <td>-0.675362</td>\n",
              "      <td>-0.616940</td>\n",
              "      <td>-0.381626</td>\n",
              "      <td>-0.744572</td>\n",
              "      <td>-1.121385</td>\n",
              "      <td>1.0</td>\n",
              "      <td>0.0</td>\n",
              "      <td>0.0</td>\n",
              "      <td>0.0</td>\n",
              "      <td>0.0</td>\n",
              "    </tr>\n",
              "    <tr>\n",
              "      <th>16889</th>\n",
              "      <td>-1.399497</td>\n",
              "      <td>0.917905</td>\n",
              "      <td>0.745098</td>\n",
              "      <td>0.903766</td>\n",
              "      <td>1.544423</td>\n",
              "      <td>0.898277</td>\n",
              "      <td>1.586624</td>\n",
              "      <td>-0.223375</td>\n",
              "      <td>0.0</td>\n",
              "      <td>0.0</td>\n",
              "      <td>0.0</td>\n",
              "      <td>0.0</td>\n",
              "      <td>1.0</td>\n",
              "    </tr>\n",
              "    <tr>\n",
              "      <th>11416</th>\n",
              "      <td>0.790059</td>\n",
              "      <td>-0.900629</td>\n",
              "      <td>0.294118</td>\n",
              "      <td>1.121484</td>\n",
              "      <td>0.215620</td>\n",
              "      <td>0.887635</td>\n",
              "      <td>0.245992</td>\n",
              "      <td>2.089287</td>\n",
              "      <td>1.0</td>\n",
              "      <td>0.0</td>\n",
              "      <td>0.0</td>\n",
              "      <td>0.0</td>\n",
              "      <td>0.0</td>\n",
              "    </tr>\n",
              "  </tbody>\n",
              "</table>\n",
              "</div>"
            ],
            "text/plain": [
              "       longitude  latitude  housing_median_age  total_rooms  total_bedrooms  population  households  median_income  op_<1H OCEAN  op_INLAND  op_ISLAND  op_NEAR BAY  op_NEAR OCEAN\n",
              "10385   0.954649 -0.947378            0.274510     1.396566       -0.245345    1.164000    0.676446       1.345514           1.0        0.0        0.0          0.0            0.0\n",
              "1943   -0.671308  1.399419            0.215686     0.858597        0.490788    0.802898    0.562350       0.169137           0.0        1.0        0.0          0.0            0.0\n",
              "7490    0.665369 -0.793107            0.666667    -0.675362       -0.616940   -0.381626   -0.744572      -1.121385           1.0        0.0        0.0          0.0            0.0\n",
              "16889  -1.399497  0.917905            0.745098     0.903766        1.544423    0.898277    1.586624      -0.223375           0.0        0.0        0.0          0.0            1.0\n",
              "11416   0.790059 -0.900629            0.294118     1.121484        0.215620    0.887635    0.245992       2.089287           1.0        0.0        0.0          0.0            0.0"
            ]
          },
          "metadata": {
            "tags": []
          },
          "execution_count": 220
        }
      ]
    },
    {
      "cell_type": "code",
      "metadata": {
        "id": "IuBJrKc9XHd2",
        "colab_type": "code",
        "colab": {}
      },
      "source": [
        "assert (X_test.columns.values == X_train.columns.values).all() # Assert to validate that columns match"
      ],
      "execution_count": 0,
      "outputs": []
    },
    {
      "cell_type": "code",
      "metadata": {
        "id": "b9NPsdd10wa1",
        "colab_type": "code",
        "outputId": "ed61d53c-1e11-448d-e937-0cefe3d1c776",
        "colab": {
          "base_uri": "https://localhost:8080/",
          "height": 396
        }
      },
      "source": [
        "X_test.head(10)"
      ],
      "execution_count": 222,
      "outputs": [
        {
          "output_type": "execute_result",
          "data": {
            "text/html": [
              "<div>\n",
              "<style scoped>\n",
              "    .dataframe tbody tr th:only-of-type {\n",
              "        vertical-align: middle;\n",
              "    }\n",
              "\n",
              "    .dataframe tbody tr th {\n",
              "        vertical-align: top;\n",
              "    }\n",
              "\n",
              "    .dataframe thead th {\n",
              "        text-align: right;\n",
              "    }\n",
              "</style>\n",
              "<table border=\"1\" class=\"dataframe\">\n",
              "  <thead>\n",
              "    <tr style=\"text-align: right;\">\n",
              "      <th></th>\n",
              "      <th>longitude</th>\n",
              "      <th>latitude</th>\n",
              "      <th>housing_median_age</th>\n",
              "      <th>total_rooms</th>\n",
              "      <th>total_bedrooms</th>\n",
              "      <th>population</th>\n",
              "      <th>households</th>\n",
              "      <th>median_income</th>\n",
              "      <th>op_&lt;1H OCEAN</th>\n",
              "      <th>op_INLAND</th>\n",
              "      <th>op_ISLAND</th>\n",
              "      <th>op_NEAR BAY</th>\n",
              "      <th>op_NEAR OCEAN</th>\n",
              "    </tr>\n",
              "  </thead>\n",
              "  <tbody>\n",
              "    <tr>\n",
              "      <th>10385</th>\n",
              "      <td>0.954649</td>\n",
              "      <td>-0.947378</td>\n",
              "      <td>0.274510</td>\n",
              "      <td>1.396566</td>\n",
              "      <td>-0.245345</td>\n",
              "      <td>1.164000</td>\n",
              "      <td>0.676446</td>\n",
              "      <td>1.345514</td>\n",
              "      <td>1.0</td>\n",
              "      <td>0.0</td>\n",
              "      <td>0.0</td>\n",
              "      <td>0.0</td>\n",
              "      <td>0.0</td>\n",
              "    </tr>\n",
              "    <tr>\n",
              "      <th>1943</th>\n",
              "      <td>-0.671308</td>\n",
              "      <td>1.399419</td>\n",
              "      <td>0.215686</td>\n",
              "      <td>0.858597</td>\n",
              "      <td>0.490788</td>\n",
              "      <td>0.802898</td>\n",
              "      <td>0.562350</td>\n",
              "      <td>0.169137</td>\n",
              "      <td>0.0</td>\n",
              "      <td>1.0</td>\n",
              "      <td>0.0</td>\n",
              "      <td>0.0</td>\n",
              "      <td>0.0</td>\n",
              "    </tr>\n",
              "    <tr>\n",
              "      <th>7490</th>\n",
              "      <td>0.665369</td>\n",
              "      <td>-0.793107</td>\n",
              "      <td>0.666667</td>\n",
              "      <td>-0.675362</td>\n",
              "      <td>-0.616940</td>\n",
              "      <td>-0.381626</td>\n",
              "      <td>-0.744572</td>\n",
              "      <td>-1.121385</td>\n",
              "      <td>1.0</td>\n",
              "      <td>0.0</td>\n",
              "      <td>0.0</td>\n",
              "      <td>0.0</td>\n",
              "      <td>0.0</td>\n",
              "    </tr>\n",
              "    <tr>\n",
              "      <th>16889</th>\n",
              "      <td>-1.399497</td>\n",
              "      <td>0.917905</td>\n",
              "      <td>0.745098</td>\n",
              "      <td>0.903766</td>\n",
              "      <td>1.544423</td>\n",
              "      <td>0.898277</td>\n",
              "      <td>1.586624</td>\n",
              "      <td>-0.223375</td>\n",
              "      <td>0.0</td>\n",
              "      <td>0.0</td>\n",
              "      <td>0.0</td>\n",
              "      <td>0.0</td>\n",
              "      <td>1.0</td>\n",
              "    </tr>\n",
              "    <tr>\n",
              "      <th>11416</th>\n",
              "      <td>0.790059</td>\n",
              "      <td>-0.900629</td>\n",
              "      <td>0.294118</td>\n",
              "      <td>1.121484</td>\n",
              "      <td>0.215620</td>\n",
              "      <td>0.887635</td>\n",
              "      <td>0.245992</td>\n",
              "      <td>2.089287</td>\n",
              "      <td>1.0</td>\n",
              "      <td>0.0</td>\n",
              "      <td>0.0</td>\n",
              "      <td>0.0</td>\n",
              "      <td>0.0</td>\n",
              "    </tr>\n",
              "    <tr>\n",
              "      <th>10297</th>\n",
              "      <td>0.839935</td>\n",
              "      <td>-0.797781</td>\n",
              "      <td>0.235294</td>\n",
              "      <td>0.292622</td>\n",
              "      <td>0.441399</td>\n",
              "      <td>0.393474</td>\n",
              "      <td>0.510488</td>\n",
              "      <td>0.841390</td>\n",
              "      <td>1.0</td>\n",
              "      <td>0.0</td>\n",
              "      <td>0.0</td>\n",
              "      <td>0.0</td>\n",
              "      <td>0.0</td>\n",
              "    </tr>\n",
              "    <tr>\n",
              "      <th>16843</th>\n",
              "      <td>-1.434410</td>\n",
              "      <td>0.936605</td>\n",
              "      <td>0.666667</td>\n",
              "      <td>1.115160</td>\n",
              "      <td>0.987031</td>\n",
              "      <td>1.461824</td>\n",
              "      <td>1.200252</td>\n",
              "      <td>0.474549</td>\n",
              "      <td>0.0</td>\n",
              "      <td>0.0</td>\n",
              "      <td>0.0</td>\n",
              "      <td>0.0</td>\n",
              "      <td>1.0</td>\n",
              "    </tr>\n",
              "    <tr>\n",
              "      <th>11528</th>\n",
              "      <td>0.740183</td>\n",
              "      <td>-0.867905</td>\n",
              "      <td>0.490196</td>\n",
              "      <td>-0.285097</td>\n",
              "      <td>0.027471</td>\n",
              "      <td>-0.787255</td>\n",
              "      <td>0.022985</td>\n",
              "      <td>-0.841592</td>\n",
              "      <td>1.0</td>\n",
              "      <td>0.0</td>\n",
              "      <td>0.0</td>\n",
              "      <td>0.0</td>\n",
              "      <td>0.0</td>\n",
              "    </tr>\n",
              "    <tr>\n",
              "      <th>18951</th>\n",
              "      <td>-1.239894</td>\n",
              "      <td>1.226448</td>\n",
              "      <td>0.705882</td>\n",
              "      <td>-0.590895</td>\n",
              "      <td>-0.678088</td>\n",
              "      <td>-0.757523</td>\n",
              "      <td>-0.700489</td>\n",
              "      <td>-0.025930</td>\n",
              "      <td>0.0</td>\n",
              "      <td>1.0</td>\n",
              "      <td>0.0</td>\n",
              "      <td>0.0</td>\n",
              "      <td>0.0</td>\n",
              "    </tr>\n",
              "    <tr>\n",
              "      <th>3728</th>\n",
              "      <td>0.565617</td>\n",
              "      <td>-0.676234</td>\n",
              "      <td>0.588235</td>\n",
              "      <td>-0.102612</td>\n",
              "      <td>-0.068956</td>\n",
              "      <td>-0.118002</td>\n",
              "      <td>0.015206</td>\n",
              "      <td>0.014002</td>\n",
              "      <td>1.0</td>\n",
              "      <td>0.0</td>\n",
              "      <td>0.0</td>\n",
              "      <td>0.0</td>\n",
              "      <td>0.0</td>\n",
              "    </tr>\n",
              "  </tbody>\n",
              "</table>\n",
              "</div>"
            ],
            "text/plain": [
              "       longitude  latitude  housing_median_age  total_rooms  total_bedrooms  population  households  median_income  op_<1H OCEAN  op_INLAND  op_ISLAND  op_NEAR BAY  op_NEAR OCEAN\n",
              "10385   0.954649 -0.947378            0.274510     1.396566       -0.245345    1.164000    0.676446       1.345514           1.0        0.0        0.0          0.0            0.0\n",
              "1943   -0.671308  1.399419            0.215686     0.858597        0.490788    0.802898    0.562350       0.169137           0.0        1.0        0.0          0.0            0.0\n",
              "7490    0.665369 -0.793107            0.666667    -0.675362       -0.616940   -0.381626   -0.744572      -1.121385           1.0        0.0        0.0          0.0            0.0\n",
              "16889  -1.399497  0.917905            0.745098     0.903766        1.544423    0.898277    1.586624      -0.223375           0.0        0.0        0.0          0.0            1.0\n",
              "11416   0.790059 -0.900629            0.294118     1.121484        0.215620    0.887635    0.245992       2.089287           1.0        0.0        0.0          0.0            0.0\n",
              "10297   0.839935 -0.797781            0.235294     0.292622        0.441399    0.393474    0.510488       0.841390           1.0        0.0        0.0          0.0            0.0\n",
              "16843  -1.434410  0.936605            0.666667     1.115160        0.987031    1.461824    1.200252       0.474549           0.0        0.0        0.0          0.0            1.0\n",
              "11528   0.740183 -0.867905            0.490196    -0.285097        0.027471   -0.787255    0.022985      -0.841592           1.0        0.0        0.0          0.0            0.0\n",
              "18951  -1.239894  1.226448            0.705882    -0.590895       -0.678088   -0.757523   -0.700489      -0.025930           0.0        1.0        0.0          0.0            0.0\n",
              "3728    0.565617 -0.676234            0.588235    -0.102612       -0.068956   -0.118002    0.015206       0.014002           1.0        0.0        0.0          0.0            0.0"
            ]
          },
          "metadata": {
            "tags": []
          },
          "execution_count": 222
        }
      ]
    },
    {
      "cell_type": "markdown",
      "metadata": {
        "id": "NRrmhnWD41f6",
        "colab_type": "text"
      },
      "source": [
        "## Creating Models"
      ]
    },
    {
      "cell_type": "markdown",
      "metadata": {
        "id": "GPBVRp5wZQpG",
        "colab_type": "text"
      },
      "source": [
        "### Linear Regression"
      ]
    },
    {
      "cell_type": "code",
      "metadata": {
        "id": "3r_xmXQvZPS9",
        "colab_type": "code",
        "outputId": "c10c05a0-dd7b-4679-f38a-c35d7f160ac5",
        "colab": {
          "base_uri": "https://localhost:8080/",
          "height": 102
        }
      },
      "source": [
        "from sklearn.linear_model import LinearRegression \n",
        "\n",
        "# Creating linear regression object\n",
        "lin_reg = LinearRegression()\n",
        "\n",
        "# Train model\n",
        "lin_reg.fit(X_train, Y_train)"
      ],
      "execution_count": 223,
      "outputs": [
        {
          "output_type": "execute_result",
          "data": {
            "text/plain": [
              "(218634.11073360962,\n",
              " array([-52495.91369884, -53155.10657095,  50429.68785319, -22552.14697336,\n",
              "         38593.19668165, -25639.75636159,  13231.0826454 ,  75489.72342041,\n",
              "        -26848.27451777, -67985.99384318, 144821.68912966, -28340.58015854,\n",
              "        -21646.84061016]))"
            ]
          },
          "metadata": {
            "tags": []
          },
          "execution_count": 223
        }
      ]
    },
    {
      "cell_type": "code",
      "metadata": {
        "id": "FueZNXtp5sBB",
        "colab_type": "code",
        "colab": {}
      },
      "source": [
        "# Predicting with test data\n",
        "Y_test_lr_prediction = lin_reg.predict(X_test)"
      ],
      "execution_count": 0,
      "outputs": []
    },
    {
      "cell_type": "code",
      "metadata": {
        "id": "798OUt2_5sIY",
        "colab_type": "code",
        "colab": {}
      },
      "source": [
        "from sklearn.metrics import mean_squared_error, r2_score, mean_absolute_error"
      ],
      "execution_count": 0,
      "outputs": []
    },
    {
      "cell_type": "code",
      "metadata": {
        "id": "NssyQdEV_n8G",
        "colab_type": "code",
        "outputId": "81757869-68e9-4289-98ee-b12cd057f09b",
        "colab": {
          "base_uri": "https://localhost:8080/",
          "height": 68
        }
      },
      "source": [
        "# Calculating model performance metrics\n",
        "mse = mean_squared_error(Y_test, Y_test_lr_prediction)\n",
        "mae = mean_absolute_error(Y_test, Y_test_lr_prediction)\n",
        "r2 = r2_score(Y_test, Y_test_estimate)\n",
        "\n",
        "print(\"Mean Square Error (MSE)= {:.2f}\".format(mse))\n",
        "print(\"Mean Absolute Error (MAE)= {:.2f}\".format(mae))\n",
        "print(\"R_2 = {:.3f}\".format(r2))"
      ],
      "execution_count": 235,
      "outputs": [
        {
          "output_type": "stream",
          "text": [
            "Mean Square Error (MSE)= 4912780167.18\n",
            "Mean Absolute Error (MAE)= 50696.77\n",
            "R_2 = 0.635\n"
          ],
          "name": "stdout"
        }
      ]
    },
    {
      "cell_type": "markdown",
      "metadata": {
        "id": "VuDnip84cOv9",
        "colab_type": "text"
      },
      "source": [
        "### Stochastic Gradient Descent"
      ]
    },
    {
      "cell_type": "code",
      "metadata": {
        "id": "0rWZXm97ch_g",
        "colab_type": "code",
        "colab": {
          "base_uri": "https://localhost:8080/",
          "height": 119
        },
        "outputId": "7ec3ac38-9162-4738-bb54-ecab767b442c"
      },
      "source": [
        "from sklearn.linear_model import SGDRegressor\n",
        "\n",
        "# Creating parameters dictionary\n",
        "params = dict(loss='squared_loss', \n",
        "              max_iter=500, \n",
        "              tol=0.001, \n",
        "              shuffle=True, \n",
        "              verbose=0,\n",
        "              random_state=42, \n",
        "              learning_rate='invscaling')\n",
        "\n",
        "# Creating models\n",
        "sgd_linear_model = SGDRegressor(**params)\n",
        "\n",
        "# Training model\n",
        "sgd_linear_model.fit(X_train, Y_train)"
      ],
      "execution_count": 231,
      "outputs": [
        {
          "output_type": "execute_result",
          "data": {
            "text/plain": [
              "SGDRegressor(alpha=0.0001, average=False, early_stopping=False, epsilon=0.1,\n",
              "             eta0=0.01, fit_intercept=True, l1_ratio=0.15,\n",
              "             learning_rate='invscaling', loss='squared_loss', max_iter=500,\n",
              "             n_iter_no_change=5, penalty='l2', power_t=0.25, random_state=42,\n",
              "             shuffle=True, tol=0.001, validation_fraction=0.1, verbose=0,\n",
              "             warm_start=False)"
            ]
          },
          "metadata": {
            "tags": []
          },
          "execution_count": 231
        }
      ]
    },
    {
      "cell_type": "code",
      "metadata": {
        "id": "1X9aYfiHDamW",
        "colab_type": "code",
        "colab": {}
      },
      "source": [
        "# Predicting with test data\n",
        "Y_test_sdg_prediction = sgd_linear_model.predict(X_test)"
      ],
      "execution_count": 0,
      "outputs": []
    },
    {
      "cell_type": "code",
      "metadata": {
        "id": "ZnKBpKABWI2G",
        "colab_type": "code",
        "outputId": "382d1435-d2f1-4146-b3aa-263715a95d86",
        "colab": {
          "base_uri": "https://localhost:8080/",
          "height": 68
        }
      },
      "source": [
        "# Calculating model performance metrics\n",
        "mse = mean_squared_error(Y_test, Y_test_sdg_prediction)\n",
        "mae = mean_absolute_error(Y_test, Y_test_sdg_prediction)\n",
        "r2 = r2_score(Y_test, Y_test_sdg_prediction)\n",
        "\n",
        "print(\"Mean Square Error (MSE)= {:.2f}\".format(mse))\n",
        "print(\"Mean Absolute Error (MAE)= {:.2f}\".format(mae))\n",
        "print(\"R_2 = {:.3f}\".format(r2))"
      ],
      "execution_count": 238,
      "outputs": [
        {
          "output_type": "stream",
          "text": [
            "Mean Square Error (MSE)= 4932319997.97\n",
            "Mean Absolute Error (MAE)= 50382.51\n",
            "R_2 = 0.634\n"
          ],
          "name": "stdout"
        }
      ]
    },
    {
      "cell_type": "code",
      "metadata": {
        "id": "IUG56JFJ34NX",
        "colab_type": "code",
        "colab": {
          "base_uri": "https://localhost:8080/",
          "height": 102
        },
        "outputId": "edf49a5b-5a2f-4aad-ed07-39a67a31d517"
      },
      "source": [
        "# Looking for learned parameters in lr model\n",
        "lin_reg.intercept_, lin_reg.coef_"
      ],
      "execution_count": 243,
      "outputs": [
        {
          "output_type": "execute_result",
          "data": {
            "text/plain": [
              "(218634.11073360962,\n",
              " array([-52495.91369884, -53155.10657095,  50429.68785319, -22552.14697336,\n",
              "         38593.19668165, -25639.75636159,  13231.0826454 ,  75489.72342041,\n",
              "        -26848.27451777, -67985.99384318, 144821.68912966, -28340.58015854,\n",
              "        -21646.84061016]))"
            ]
          },
          "metadata": {
            "tags": []
          },
          "execution_count": 243
        }
      ]
    },
    {
      "cell_type": "code",
      "metadata": {
        "id": "4Sd0_tnPWI-H",
        "colab_type": "code",
        "outputId": "7655fea8-adec-4449-8dce-33cc0a63ed9d",
        "colab": {
          "base_uri": "https://localhost:8080/",
          "height": 102
        }
      },
      "source": [
        "# Looking for learned parameters in sgd model\n",
        "sgd_linear_model.intercept_, sgd_linear_model.coef_"
      ],
      "execution_count": 242,
      "outputs": [
        {
          "output_type": "execute_result",
          "data": {
            "text/plain": [
              "(array([147860.41730497]),\n",
              " array([-52963.39151   , -52775.29146575,  49955.90316313, -21365.45516548,\n",
              "         39955.58623401, -24561.16210846,  14373.51999843,  75652.64077557,\n",
              "         42396.69561896,   1443.45579472,  11524.04066445,  41318.7804664 ,\n",
              "         47878.97914527]))"
            ]
          },
          "metadata": {
            "tags": []
          },
          "execution_count": 242
        }
      ]
    },
    {
      "cell_type": "markdown",
      "metadata": {
        "id": "2XBSt6jJDJN9",
        "colab_type": "text"
      },
      "source": [
        "## Learning Curves"
      ]
    },
    {
      "cell_type": "code",
      "metadata": {
        "id": "M4_4NZg_Ft4o",
        "colab_type": "code",
        "colab": {}
      },
      "source": [
        "# Pipeline to Transform Original DataFrame\n",
        "\n",
        "# Scaling\n",
        "X_df['population'] = box_cox.transform(X_df['population'].values[:,None])\n",
        "X_df['median_income'] = sc_median_income.transform(X_df['median_income'].values[:,None])\n",
        "X_df['housing_median_age'] = min_max_housing_median.transform(X_df['housing_median_age'].values[:,None])\n",
        "X_df[\"ocean_proximity\"] = le_ocean_proximity.transform(X_df[\"ocean_proximity\"])\n",
        "X_df[cols2scale] = se_cols2scale.transform(X_df[cols2scale])\n",
        "\n",
        "# Encoding\n",
        "temp_df = ohe_ocean_proximity.transform(X_df[\"ocean_proximity\"].values[:,None]).toarray()\n",
        "for idx, col in enumerate(ohe_cols_op):\n",
        "  X_df[col] = temp_df[:,idx]\n",
        "X_df = X_df.drop(\"ocean_proximity\", axis=1)\n",
        "\n",
        "# Missing Values\n",
        "X_df[\"total_bedrooms\"] = si_total_bedrooms.transform(X_df[\"total_bedrooms\"].values[:,None])"
      ],
      "execution_count": 0,
      "outputs": []
    },
    {
      "cell_type": "markdown",
      "metadata": {
        "id": "b8LDfvld-nlX",
        "colab_type": "text"
      },
      "source": [
        "### Stochastic Gradient Descent"
      ]
    },
    {
      "cell_type": "code",
      "metadata": {
        "id": "bEUB-CZ7E0tV",
        "colab_type": "code",
        "colab": {}
      },
      "source": [
        "# Creating regressor\n",
        "sgd_regressor_for_lc = SGDRegressor(**params)"
      ],
      "execution_count": 0,
      "outputs": []
    },
    {
      "cell_type": "code",
      "metadata": {
        "id": "cFqvv-YnWI6E",
        "colab_type": "code",
        "colab": {}
      },
      "source": [
        "from sklearn.model_selection import learning_curve\n",
        "\n",
        "# Creating learning curve object\n",
        "train_sizes, train_scores, test_scores = learning_curve(sgd_regressor_for_lc, \n",
        "                                                        X_df, \n",
        "                                                        Y_df, \n",
        "                                                        cv=5, \n",
        "                                                        n_jobs=4, \n",
        "                                                        train_sizes=[0.4, 0.6, 0.8], \n",
        "                                                        scoring='r2')\n",
        "\n",
        "# Calculating mean and standar deviation of scores calculated in every model iteration\n",
        "train_scores_mean = np.mean(train_scores, axis=1)\n",
        "train_scores_std = np.std(train_scores, axis=1)\n",
        "test_scores_mean = np.mean(test_scores, axis=1)\n",
        "test_scores_std = np.std(test_scores, axis=1)"
      ],
      "execution_count": 0,
      "outputs": []
    },
    {
      "cell_type": "code",
      "metadata": {
        "id": "OLGkXpK7HdFN",
        "colab_type": "code",
        "outputId": "3368b103-e822-4f57-b429-fb1c1c74b569",
        "colab": {
          "base_uri": "https://localhost:8080/",
          "height": 295
        }
      },
      "source": [
        "plt.figure()\n",
        "\n",
        "plt.title(\"SGD Learning Curve\")\n",
        "plt.xlabel(\"Training examples\")\n",
        "plt.ylabel(\"Score\")\n",
        "\n",
        "plt.fill_between(train_sizes, \n",
        "                 train_scores_mean - train_scores_std,\n",
        "                 train_scores_mean + train_scores_std, \n",
        "                 alpha=0.1,\n",
        "                 color=\"r\")\n",
        "\n",
        "plt.fill_between(train_sizes, \n",
        "                 test_scores_mean - test_scores_std,\n",
        "                 test_scores_mean + test_scores_std, \n",
        "                 alpha=0.1, \n",
        "                 color=\"g\")\n",
        "\n",
        "plt.plot(train_sizes, \n",
        "         train_scores_mean, \n",
        "         'o-', \n",
        "         color=\"r\",\n",
        "         label=\"Training score\")\n",
        "\n",
        "plt.plot(train_sizes, \n",
        "         test_scores_mean, \n",
        "         'o-', \n",
        "         color=\"g\",\n",
        "         label=\"Cross-validation score\")\n",
        "\n",
        "plt.legend(loc=\"best\")\n",
        "plt.show()"
      ],
      "execution_count": 256,
      "outputs": [
        {
          "output_type": "display_data",
          "data": {
            "image/png": "[encoded data removed]",
            "text/plain": [
              "<Figure size 432x288 with 1 Axes>"
            ]
          },
          "metadata": {
            "tags": []
          }
        }
      ]
    },
    {
      "cell_type": "markdown",
      "metadata": {
        "id": "AfR_nPn8LAO_",
        "colab_type": "text"
      },
      "source": [
        "### Random Forest Regressor"
      ]
    },
    {
      "cell_type": "code",
      "metadata": {
        "id": "MgaTPyuCJ4oP",
        "colab_type": "code",
        "colab": {}
      },
      "source": [
        "from sklearn.ensemble import RandomForestRegressor"
      ],
      "execution_count": 0,
      "outputs": []
    },
    {
      "cell_type": "code",
      "metadata": {
        "id": "PL6A_ulaGZr-",
        "colab_type": "code",
        "colab": {}
      },
      "source": [
        "# Creating regressor\n",
        "random_forest_regressor_for_lc = RandomForestRegressor()"
      ],
      "execution_count": 0,
      "outputs": []
    },
    {
      "cell_type": "code",
      "metadata": {
        "id": "XmLLvgcbGe_h",
        "colab_type": "code",
        "colab": {}
      },
      "source": [
        "# Creating learning curve object\n",
        "train_sizes, train_scores, test_scores = learning_curve(random_forest_regressor_for_lc, \n",
        "                                                        X_df, \n",
        "                                                        Y_df, \n",
        "                                                        cv=3, \n",
        "                                                        n_jobs=2, \n",
        "                                                        train_sizes=[0.4, 0.6, 0.8], \n",
        "                                                        scoring='r2')\n",
        "\n",
        "# Calculating mean and standar deviation of scores calculated in every model iteration\n",
        "train_scores_mean = np.mean(train_scores, axis=1)\n",
        "train_scores_std = np.std(train_scores, axis=1)\n",
        "test_scores_mean = np.mean(test_scores, axis=1)\n",
        "test_scores_std = np.std(test_scores, axis=1)"
      ],
      "execution_count": 0,
      "outputs": []
    },
    {
      "cell_type": "code",
      "metadata": {
        "id": "nGXyHPcLKiof",
        "colab_type": "code",
        "outputId": "47765de8-40b1-4e8b-e581-f2b79fcbd039",
        "colab": {
          "base_uri": "https://localhost:8080/",
          "height": 295
        }
      },
      "source": [
        "plt.figure()\n",
        "\n",
        "plt.title(\"Random Forest Learning Curve\")\n",
        "plt.xlabel(\"Training examples\")\n",
        "plt.ylabel(\"Score\")\n",
        "\n",
        "plt.fill_between(train_sizes, \n",
        "                 train_scores_mean - train_scores_std,\n",
        "                 train_scores_mean + train_scores_std, \n",
        "                 alpha=0.1,\n",
        "                 color=\"r\")\n",
        "\n",
        "plt.fill_between(train_sizes, \n",
        "                 test_scores_mean - test_scores_std,\n",
        "                 test_scores_mean + test_scores_std, \n",
        "                 alpha=0.1, \n",
        "                 color=\"g\")\n",
        "\n",
        "plt.plot(train_sizes, \n",
        "         train_scores_mean, \n",
        "         'o-', \n",
        "         color=\"r\",\n",
        "         label=\"Training score\")\n",
        "\n",
        "plt.plot(train_sizes, \n",
        "         test_scores_mean, \n",
        "         'o-', \n",
        "         color=\"g\",\n",
        "         label=\"Cross-validation score\")\n",
        "\n",
        "plt.legend(loc=\"best\")\n",
        "plt.show()"
      ],
      "execution_count": 262,
      "outputs": [
        {
          "output_type": "display_data",
          "data": {
            "image/png": "[encoded data removed]",
            "text/plain": [
              "<Figure size 432x288 with 1 Axes>"
            ]
          },
          "metadata": {
            "tags": []
          }
        }
      ]
    },
    {
      "cell_type": "markdown",
      "metadata": {
        "id": "ac-nI_33sXgd",
        "colab_type": "text"
      },
      "source": [
        "## Creating a Pipeline"
      ]
    },
    {
      "cell_type": "code",
      "metadata": {
        "id": "z_ygcSREmuZ1",
        "colab_type": "code",
        "colab": {}
      },
      "source": [
        "from sklearn.base import BaseEstimator, TransformerMixin\n",
        "from sklearn.pipeline import make_pipeline, FeatureUnion, Pipeline\n",
        "from sklearn.preprocessing import (PowerTransformer, StandardScaler, \n",
        "                                   MinMaxScaler, OneHotEncoder)\n",
        "from sklearn.compose import TransformedTargetRegressor"
      ],
      "execution_count": 0,
      "outputs": []
    },
    {
      "cell_type": "code",
      "metadata": {
        "id": "60Lv6pElmFML",
        "colab_type": "code",
        "colab": {}
      },
      "source": [
        "# Adding a helper class to select columns\n",
        "class ColumnSelector(BaseEstimator, TransformerMixin):\n",
        "    def __init__(self, columns):\n",
        "        self.columns = columns\n",
        "\n",
        "    def fit(self, X, y=None):\n",
        "        return self\n",
        "\n",
        "    def transform(self, X):\n",
        "        assert isinstance(X, pd.DataFrame)\n",
        "        try:\n",
        "            return X[self.columns]\n",
        "        except KeyError:\n",
        "            cols_error = list(set(self.columns) - set(X.columns))\n",
        "            raise KeyError(\"The DataFrame does not include the columns: %s\" % cols_error)"
      ],
      "execution_count": 0,
      "outputs": []
    },
    {
      "cell_type": "code",
      "metadata": {
        "id": "QWckdIR8oicP",
        "colab_type": "code",
        "colab": {}
      },
      "source": [
        "# Separating depending variable (Y) from independent variables (X)\n",
        "X_df = housing_data.drop('median_house_value', axis=1).copy()\n",
        "Y_df = housing_data['median_house_value'].copy()"
      ],
      "execution_count": 0,
      "outputs": []
    },
    {
      "cell_type": "code",
      "metadata": {
        "id": "Nt3VyVljnwYM",
        "colab_type": "code",
        "colab": {}
      },
      "source": [
        "# Splitting data set into training/test\n",
        "X_train_p, X_test_p, y_train_p, y_test_p = train_test_split(X_df.copy(), Y_df.copy(), test_size=0.2, random_state=2)"
      ],
      "execution_count": 0,
      "outputs": []
    },
    {
      "cell_type": "code",
      "metadata": {
        "id": "T3ABIMPGrltJ",
        "colab_type": "code",
        "colab": {}
      },
      "source": [
        "# Population Transform\n",
        "population_pre = ('population_pre', Pipeline([('selector', ColumnSelector(['population'])),\n",
        "                                              ('box_cox', PowerTransformer(method='box-cox', \n",
        "                                                                           standardize=True))]))\n",
        "# Standard Scaler Transform\n",
        "columns_se_pre = ['longitude', 'latitude', 'total_rooms', 'households', 'median_income']\n",
        "standard_scaler_pre = ('standard_scaler_pre', Pipeline([('selector', ColumnSelector(columns_se_pre)),\n",
        "                                                        ('ss', StandardScaler())]))\n",
        "# MinMax Scaler Transform\n",
        "columns_minmax_pre = ['housing_median_age']\n",
        "minmax_scaler_pre = ('minmax_scaler_pre', Pipeline([('selector', ColumnSelector(columns_minmax_pre)),\n",
        "                                                    ('minmax', MinMaxScaler(feature_range=(0,1)))]))\n",
        "# One Hot Encoder Transform\n",
        "columns_ohe_pre = ['ocean_proximity']\n",
        "ohe_pre = ('ohe_pre', Pipeline([('selector', ColumnSelector(columns_ohe_pre)),\n",
        "                                ('ohe', OneHotEncoder(categories='auto', sparse=False,\n",
        "                                                      handle_unknown='ignore'))]))\n",
        "# Simple Imputer\n",
        "columns_si_pre = ['total_bedrooms']\n",
        "si_pre = ('si_pre', Pipeline([('selector', ColumnSelector(columns_si_pre)),\n",
        "                              ('si', SimpleImputer(strategy='median', \n",
        "                                                   add_indicator=False)),\n",
        "                              ('se', StandardScaler())]))"
      ],
      "execution_count": 0,
      "outputs": []
    },
    {
      "cell_type": "code",
      "metadata": {
        "id": "ehRQz2YvqKxs",
        "colab_type": "code",
        "colab": {}
      },
      "source": [
        "# Building preporcess pipeline through FeatureUnion function\n",
        "preprocess_pipeline = Pipeline([\n",
        "                                ('complete_preprocess', FeatureUnion([population_pre,\n",
        "                                                                      standard_scaler_pre,\n",
        "                                                                      minmax_scaler_pre,\n",
        "                                                                      ohe_pre,\n",
        "                                                                      si_pre])),\n",
        "                                ])"
      ],
      "execution_count": 0,
      "outputs": []
    },
    {
      "cell_type": "code",
      "metadata": {
        "id": "9jwnHde3IgJj",
        "colab_type": "code",
        "colab": {}
      },
      "source": [
        "# Fitting and transforming train data with preprocess pipeline\n",
        "transformed_train_data = preprocess_pipeline.fit_transform(X_train_p)"
      ],
      "execution_count": 0,
      "outputs": []
    },
    {
      "cell_type": "code",
      "metadata": {
        "id": "eg7-S7oSJB3l",
        "colab_type": "code",
        "outputId": "ba1187fc-c4d2-4ee3-c3b8-f62efd4afaf7",
        "colab": {
          "base_uri": "https://localhost:8080/",
          "height": 241
        }
      },
      "source": [
        "order_columns = ['population'] + columns_se_pre + columns_minmax_pre + \\\n",
        "                ['op_<1H OCEAN', 'op_INLAND', 'op_ISLAND', 'op_NEAR BAY', 'op_NEAR OCEAN'] + columns_si_pre\n",
        "X_train[order_columns].head()"
      ],
      "execution_count": 278,
      "outputs": [
        {
          "output_type": "execute_result",
          "data": {
            "text/html": [
              "<div>\n",
              "<style scoped>\n",
              "    .dataframe tbody tr th:only-of-type {\n",
              "        vertical-align: middle;\n",
              "    }\n",
              "\n",
              "    .dataframe tbody tr th {\n",
              "        vertical-align: top;\n",
              "    }\n",
              "\n",
              "    .dataframe thead th {\n",
              "        text-align: right;\n",
              "    }\n",
              "</style>\n",
              "<table border=\"1\" class=\"dataframe\">\n",
              "  <thead>\n",
              "    <tr style=\"text-align: right;\">\n",
              "      <th></th>\n",
              "      <th>population</th>\n",
              "      <th>longitude</th>\n",
              "      <th>latitude</th>\n",
              "      <th>total_rooms</th>\n",
              "      <th>households</th>\n",
              "      <th>median_income</th>\n",
              "      <th>housing_median_age</th>\n",
              "      <th>op_&lt;1H OCEAN</th>\n",
              "      <th>op_INLAND</th>\n",
              "      <th>op_ISLAND</th>\n",
              "      <th>op_NEAR BAY</th>\n",
              "      <th>op_NEAR OCEAN</th>\n",
              "      <th>total_bedrooms</th>\n",
              "    </tr>\n",
              "  </thead>\n",
              "  <tbody>\n",
              "    <tr>\n",
              "      <th>2072</th>\n",
              "      <td>0.223324</td>\n",
              "      <td>-0.137635</td>\n",
              "      <td>0.534564</td>\n",
              "      <td>-0.357368</td>\n",
              "      <td>-0.218173</td>\n",
              "      <td>-1.258403</td>\n",
              "      <td>0.098039</td>\n",
              "      <td>0.0</td>\n",
              "      <td>1.0</td>\n",
              "      <td>0.0</td>\n",
              "      <td>0.0</td>\n",
              "      <td>0.0</td>\n",
              "      <td>-0.155975</td>\n",
              "    </tr>\n",
              "    <tr>\n",
              "      <th>10600</th>\n",
              "      <td>-0.452278</td>\n",
              "      <td>0.879836</td>\n",
              "      <td>-0.909979</td>\n",
              "      <td>-0.276515</td>\n",
              "      <td>-0.417841</td>\n",
              "      <td>1.610623</td>\n",
              "      <td>0.137255</td>\n",
              "      <td>1.0</td>\n",
              "      <td>0.0</td>\n",
              "      <td>0.0</td>\n",
              "      <td>0.0</td>\n",
              "      <td>0.0</td>\n",
              "      <td>-0.447606</td>\n",
              "    </tr>\n",
              "    <tr>\n",
              "      <th>2494</th>\n",
              "      <td>-0.349517</td>\n",
              "      <td>-0.312201</td>\n",
              "      <td>0.455091</td>\n",
              "      <td>-0.799127</td>\n",
              "      <td>-0.744572</td>\n",
              "      <td>-1.220425</td>\n",
              "      <td>0.470588</td>\n",
              "      <td>0.0</td>\n",
              "      <td>1.0</td>\n",
              "      <td>0.0</td>\n",
              "      <td>0.0</td>\n",
              "      <td>0.0</td>\n",
              "      <td>-0.765107</td>\n",
              "    </tr>\n",
              "    <tr>\n",
              "      <th>4284</th>\n",
              "      <td>-0.918091</td>\n",
              "      <td>0.620480</td>\n",
              "      <td>-0.713633</td>\n",
              "      <td>-0.913406</td>\n",
              "      <td>-0.710862</td>\n",
              "      <td>-1.233736</td>\n",
              "      <td>0.588235</td>\n",
              "      <td>1.0</td>\n",
              "      <td>0.0</td>\n",
              "      <td>0.0</td>\n",
              "      <td>0.0</td>\n",
              "      <td>0.0</td>\n",
              "      <td>-0.729829</td>\n",
              "    </tr>\n",
              "    <tr>\n",
              "      <th>16541</th>\n",
              "      <td>-0.082775</td>\n",
              "      <td>-0.830911</td>\n",
              "      <td>1.011403</td>\n",
              "      <td>-0.326201</td>\n",
              "      <td>-0.334862</td>\n",
              "      <td>0.114837</td>\n",
              "      <td>0.392157</td>\n",
              "      <td>0.0</td>\n",
              "      <td>1.0</td>\n",
              "      <td>0.0</td>\n",
              "      <td>0.0</td>\n",
              "      <td>0.0</td>\n",
              "      <td>-0.391161</td>\n",
              "    </tr>\n",
              "  </tbody>\n",
              "</table>\n",
              "</div>"
            ],
            "text/plain": [
              "       population  longitude  latitude  total_rooms  households  median_income  housing_median_age  op_<1H OCEAN  op_INLAND  op_ISLAND  op_NEAR BAY  op_NEAR OCEAN  total_bedrooms\n",
              "2072     0.223324  -0.137635  0.534564    -0.357368   -0.218173      -1.258403            0.098039           0.0        1.0        0.0          0.0            0.0       -0.155975\n",
              "10600   -0.452278   0.879836 -0.909979    -0.276515   -0.417841       1.610623            0.137255           1.0        0.0        0.0          0.0            0.0       -0.447606\n",
              "2494    -0.349517  -0.312201  0.455091    -0.799127   -0.744572      -1.220425            0.470588           0.0        1.0        0.0          0.0            0.0       -0.765107\n",
              "4284    -0.918091   0.620480 -0.713633    -0.913406   -0.710862      -1.233736            0.588235           1.0        0.0        0.0          0.0            0.0       -0.729829\n",
              "16541   -0.082775  -0.830911  1.011403    -0.326201   -0.334862       0.114837            0.392157           0.0        1.0        0.0          0.0            0.0       -0.391161"
            ]
          },
          "metadata": {
            "tags": []
          },
          "execution_count": 278
        }
      ]
    },
    {
      "cell_type": "code",
      "metadata": {
        "id": "74cyIZmgqIch",
        "colab_type": "code",
        "colab": {}
      },
      "source": [
        "# Creating a pipeline which contains the previous preprocess pipeline and the SGDRegressor\n",
        "regressor_pipeline = Pipeline([('preprocess', preprocess_pipeline), \n",
        "                               ('regressor', SGDRegressor(**params))])"
      ],
      "execution_count": 0,
      "outputs": []
    },
    {
      "cell_type": "code",
      "metadata": {
        "id": "pS38euNpzrI9",
        "colab_type": "code",
        "colab": {}
      },
      "source": [
        "# Fit regressor pipeline model\n",
        "transformed_train_data = regressor_pipeline.fit(X_train_p, y_train_p)"
      ],
      "execution_count": 0,
      "outputs": []
    },
    {
      "cell_type": "code",
      "metadata": {
        "id": "mw7Bd85w1TvT",
        "colab_type": "code",
        "colab": {}
      },
      "source": [
        "# Predict using regressor pipeline\n",
        "Y_predicted_p = regressor_pipeline.predict(X_test_p)"
      ],
      "execution_count": 0,
      "outputs": []
    },
    {
      "cell_type": "code",
      "metadata": {
        "id": "92DrNCfFyQUu",
        "colab_type": "code",
        "colab": {}
      },
      "source": [
        "# As housing prices are big scale numbers, we also can apply a MinMaxScaler transformation to that specific column using a TransformedTargetRegressor\n",
        "complete_pipeline = TransformedTargetRegressor(regressor=regressor_pipeline, \n",
        "                                               transformer=MinMaxScaler())"
      ],
      "execution_count": 0,
      "outputs": []
    },
    {
      "cell_type": "code",
      "metadata": {
        "id": "EeoAY38yzBL2",
        "colab_type": "code",
        "outputId": "f24b1d28-d422-4599-cc55-e9cb80b4c9bd",
        "colab": {
          "base_uri": "https://localhost:8080/",
          "height": 598
        }
      },
      "source": [
        "# Fit complete pipeline model\n",
        "complete_pipeline.fit(X_train_p, y_train_p)"
      ],
      "execution_count": 286,
      "outputs": [
        {
          "output_type": "execute_result",
          "data": {
            "text/plain": [
              "TransformedTargetRegressor(check_inverse=True, func=None, inverse_func=None,\n",
              "                           regressor=Pipeline(memory=None,\n",
              "                                              steps=[('preprocess',\n",
              "                                                      Pipeline(memory=None,\n",
              "                                                               steps=[('complete_preprocess',\n",
              "                                                                       FeatureUnion(n_jobs=None,\n",
              "                                                                                    transformer_list=[('population_pre',\n",
              "                                                                                                       Pipeline(memory=None,\n",
              "                                                                                                                steps=[('selector',\n",
              "                                                                                                                        ColumnSelector(columns=['population'])),\n",
              "                                                                                                                       ('box_cox',\n",
              "                                                                                                                        PowerTransformer(copy...\n",
              "                                                                   average=False,\n",
              "                                                                   early_stopping=False,\n",
              "                                                                   epsilon=0.1,\n",
              "                                                                   eta0=0.01,\n",
              "                                                                   fit_intercept=True,\n",
              "                                                                   l1_ratio=0.15,\n",
              "                                                                   learning_rate='invscaling',\n",
              "                                                                   loss='squared_loss',\n",
              "                                                                   max_iter=500,\n",
              "                                                                   n_iter_no_change=5,\n",
              "                                                                   penalty='l2',\n",
              "                                                                   power_t=0.25,\n",
              "                                                                   random_state=42,\n",
              "                                                                   shuffle=True,\n",
              "                                                                   tol=0.001,\n",
              "                                                                   validation_fraction=0.1,\n",
              "                                                                   verbose=0,\n",
              "                                                                   warm_start=False))],\n",
              "                                              verbose=False),\n",
              "                           transformer=MinMaxScaler(copy=True,\n",
              "                                                    feature_range=(0, 1)))"
            ]
          },
          "metadata": {
            "tags": []
          },
          "execution_count": 286
        }
      ]
    },
    {
      "cell_type": "code",
      "metadata": {
        "id": "Yl5u36GTzGg8",
        "colab_type": "code",
        "colab": {}
      },
      "source": [
        "# Predict using complete pipeline\n",
        "Y_predicted_complete_p = complete_pipeline.predict(X_test_p)"
      ],
      "execution_count": 0,
      "outputs": []
    },
    {
      "cell_type": "code",
      "metadata": {
        "id": "twNckaNtc7pX",
        "colab_type": "code",
        "colab": {
          "base_uri": "https://localhost:8080/",
          "height": 68
        },
        "outputId": "d72c7a44-dcde-4844-93c4-c56bc5af4c6f"
      },
      "source": [
        "# Calculating performance metrics\n",
        "mse = mean_squared_error(y_test_p, Y_predicted_complete_p)\n",
        "mae = mean_absolute_error(y_test_p, Y_predicted_complete_p)\n",
        "r2 = r2_score(y_test_p, Y_predicted_complete_p)\n",
        "\n",
        "print(\"Mean Square Error (MSE)= {:.2f}\".format(mse))\n",
        "print(\"Mean Absolute Error (MAE)= {:.2f}\".format(mae))\n",
        "print(\"R_2 = {:.3f}\".format(r2))"
      ],
      "execution_count": 296,
      "outputs": [
        {
          "output_type": "stream",
          "text": [
            "Mean Square Error (MSE)= 4942854026.04\n",
            "Mean Absolute Error (MAE)= 50943.54\n",
            "R_2 = 0.633\n"
          ],
          "name": "stdout"
        }
      ]
    }
  ]
}